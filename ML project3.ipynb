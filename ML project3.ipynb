{
 "cells": [
  {
   "cell_type": "code",
   "execution_count": null,
   "metadata": {},
   "outputs": [],
   "source": [
    "'''Raisin Dataset\n",
    "\n",
    "Abstract: Images of the Kecimen and Besni raisin varieties were obtained with CVS. A total of 900 raisins were used, including 450 from both varieties, and 7 morphological features were extracted.\n",
    "\n",
    "\n",
    "\n",
    "Data Set Information: Images of Kecimen and Besni raisin varieties grown in Turkey were obtained with CVS. A total of 900 raisin grains were used, including 450 pieces from both varieties. These images were subjected to various stages of pre-processing and 7 morphological features were extracted. These features have been classified using three different artificial intelligence techniques.\n",
    "\n",
    "Attribute Information:\n",
    "\n",
    "1.) Area: Gives the number of pixels within the boundaries of the raisin. \n",
    "2.) Perimeter: It measures the environment by calculating the distance between the boundaries of the raisin and the pixels around it.\n",
    "3.) MajorAxisLength: Gives the length of the main axis, which is the longest line that can be drawn on the raisin.\n",
    "4.) MinorAxisLength: Gives the length of the small axis, which is the shortest line that can be drawn on the raisin.\n",
    "5.) Eccentricity: It gives a measure of the eccentricity of the ellipse, which has the same moments as raisins. \n",
    "6.) ConvexArea: Gives the number of pixels of the smallest convex shell of the region formed by the raisin.\n",
    "7.) Extent: Gives the ratio of the region formed by the raisin to the total pixels in the bounding box.\n",
    "8.) Class: Kecimen and Besni raisin.\n",
    "\n",
    "\n",
    "Relevant Papers: CINAR I., KOKLU M. and TASDEMIR S., (2020), Classification of Raisin Grains Using Machine Vision and Artificial Intelligence Methods. Gazi Journal of Engineering Sciences, vol. 6, no. 3, pp. 200-209, December, 2020.  DOI: https://doi.org/10.30855/gmbd.2020.03.03\n",
    "\n",
    "\n",
    "\n",
    "Citation : CINAR I., KOKLU M. and TASDEMIR S., (2020), Classification of Raisin Grains Using Machine Vision and Artificial Intelligence Methods. Gazi Journal of Engineering Sciences, vol. 6, no. 3, pp. 200-209, December, 2020. DOI: https://doi.org/10.30855/gmbd.2020.03.03\n"
   ]
  },
  {
   "cell_type": "code",
   "execution_count": 1,
   "metadata": {},
   "outputs": [],
   "source": [
    "import pandas as pd\n",
    "import numpy as np\n",
    "import matplotlib.pyplot as plt\n",
    "%matplotlib inline\n",
    "import seaborn as sns"
   ]
  },
  {
   "cell_type": "code",
   "execution_count": 2,
   "metadata": {},
   "outputs": [],
   "source": [
    "df_raisin=pd.read_excel(\"E:\\\\Machine learning\\\\Raisin_Dataset\\\\Raisin_Dataset\\\\Raisin_Dataset.xlsx\")"
   ]
  },
  {
   "cell_type": "code",
   "execution_count": 3,
   "metadata": {},
   "outputs": [
    {
     "data": {
      "text/html": [
       "<div>\n",
       "<style scoped>\n",
       "    .dataframe tbody tr th:only-of-type {\n",
       "        vertical-align: middle;\n",
       "    }\n",
       "\n",
       "    .dataframe tbody tr th {\n",
       "        vertical-align: top;\n",
       "    }\n",
       "\n",
       "    .dataframe thead th {\n",
       "        text-align: right;\n",
       "    }\n",
       "</style>\n",
       "<table border=\"1\" class=\"dataframe\">\n",
       "  <thead>\n",
       "    <tr style=\"text-align: right;\">\n",
       "      <th></th>\n",
       "      <th>Area</th>\n",
       "      <th>MajorAxisLength</th>\n",
       "      <th>MinorAxisLength</th>\n",
       "      <th>Eccentricity</th>\n",
       "      <th>ConvexArea</th>\n",
       "      <th>Extent</th>\n",
       "      <th>Perimeter</th>\n",
       "      <th>Class</th>\n",
       "    </tr>\n",
       "  </thead>\n",
       "  <tbody>\n",
       "    <tr>\n",
       "      <th>0</th>\n",
       "      <td>87524</td>\n",
       "      <td>442.246011</td>\n",
       "      <td>253.291155</td>\n",
       "      <td>0.819738</td>\n",
       "      <td>90546</td>\n",
       "      <td>0.758651</td>\n",
       "      <td>1184.040</td>\n",
       "      <td>Kecimen</td>\n",
       "    </tr>\n",
       "    <tr>\n",
       "      <th>1</th>\n",
       "      <td>75166</td>\n",
       "      <td>406.690687</td>\n",
       "      <td>243.032436</td>\n",
       "      <td>0.801805</td>\n",
       "      <td>78789</td>\n",
       "      <td>0.684130</td>\n",
       "      <td>1121.786</td>\n",
       "      <td>Kecimen</td>\n",
       "    </tr>\n",
       "    <tr>\n",
       "      <th>2</th>\n",
       "      <td>90856</td>\n",
       "      <td>442.267048</td>\n",
       "      <td>266.328318</td>\n",
       "      <td>0.798354</td>\n",
       "      <td>93717</td>\n",
       "      <td>0.637613</td>\n",
       "      <td>1208.575</td>\n",
       "      <td>Kecimen</td>\n",
       "    </tr>\n",
       "    <tr>\n",
       "      <th>3</th>\n",
       "      <td>45928</td>\n",
       "      <td>286.540559</td>\n",
       "      <td>208.760042</td>\n",
       "      <td>0.684989</td>\n",
       "      <td>47336</td>\n",
       "      <td>0.699599</td>\n",
       "      <td>844.162</td>\n",
       "      <td>Kecimen</td>\n",
       "    </tr>\n",
       "    <tr>\n",
       "      <th>4</th>\n",
       "      <td>79408</td>\n",
       "      <td>352.190770</td>\n",
       "      <td>290.827533</td>\n",
       "      <td>0.564011</td>\n",
       "      <td>81463</td>\n",
       "      <td>0.792772</td>\n",
       "      <td>1073.251</td>\n",
       "      <td>Kecimen</td>\n",
       "    </tr>\n",
       "    <tr>\n",
       "      <th>5</th>\n",
       "      <td>49242</td>\n",
       "      <td>318.125407</td>\n",
       "      <td>200.122120</td>\n",
       "      <td>0.777351</td>\n",
       "      <td>51368</td>\n",
       "      <td>0.658456</td>\n",
       "      <td>881.836</td>\n",
       "      <td>Kecimen</td>\n",
       "    </tr>\n",
       "    <tr>\n",
       "      <th>6</th>\n",
       "      <td>42492</td>\n",
       "      <td>310.146072</td>\n",
       "      <td>176.131449</td>\n",
       "      <td>0.823099</td>\n",
       "      <td>43904</td>\n",
       "      <td>0.665894</td>\n",
       "      <td>823.796</td>\n",
       "      <td>Kecimen</td>\n",
       "    </tr>\n",
       "    <tr>\n",
       "      <th>7</th>\n",
       "      <td>60952</td>\n",
       "      <td>332.455472</td>\n",
       "      <td>235.429835</td>\n",
       "      <td>0.706058</td>\n",
       "      <td>62329</td>\n",
       "      <td>0.743598</td>\n",
       "      <td>933.366</td>\n",
       "      <td>Kecimen</td>\n",
       "    </tr>\n",
       "    <tr>\n",
       "      <th>8</th>\n",
       "      <td>42256</td>\n",
       "      <td>323.189607</td>\n",
       "      <td>172.575926</td>\n",
       "      <td>0.845499</td>\n",
       "      <td>44743</td>\n",
       "      <td>0.698031</td>\n",
       "      <td>849.728</td>\n",
       "      <td>Kecimen</td>\n",
       "    </tr>\n",
       "    <tr>\n",
       "      <th>9</th>\n",
       "      <td>64380</td>\n",
       "      <td>366.964842</td>\n",
       "      <td>227.771615</td>\n",
       "      <td>0.784056</td>\n",
       "      <td>66125</td>\n",
       "      <td>0.664376</td>\n",
       "      <td>981.544</td>\n",
       "      <td>Kecimen</td>\n",
       "    </tr>\n",
       "    <tr>\n",
       "      <th>10</th>\n",
       "      <td>80437</td>\n",
       "      <td>449.454581</td>\n",
       "      <td>232.325506</td>\n",
       "      <td>0.856043</td>\n",
       "      <td>84460</td>\n",
       "      <td>0.674236</td>\n",
       "      <td>1176.305</td>\n",
       "      <td>Kecimen</td>\n",
       "    </tr>\n",
       "    <tr>\n",
       "      <th>11</th>\n",
       "      <td>43725</td>\n",
       "      <td>301.322218</td>\n",
       "      <td>186.950629</td>\n",
       "      <td>0.784258</td>\n",
       "      <td>45021</td>\n",
       "      <td>0.697068</td>\n",
       "      <td>818.873</td>\n",
       "      <td>Kecimen</td>\n",
       "    </tr>\n",
       "    <tr>\n",
       "      <th>12</th>\n",
       "      <td>43441</td>\n",
       "      <td>276.610829</td>\n",
       "      <td>201.813135</td>\n",
       "      <td>0.683882</td>\n",
       "      <td>45133</td>\n",
       "      <td>0.690856</td>\n",
       "      <td>803.748</td>\n",
       "      <td>Kecimen</td>\n",
       "    </tr>\n",
       "    <tr>\n",
       "      <th>13</th>\n",
       "      <td>76792</td>\n",
       "      <td>338.857545</td>\n",
       "      <td>291.359202</td>\n",
       "      <td>0.510584</td>\n",
       "      <td>78842</td>\n",
       "      <td>0.772322</td>\n",
       "      <td>1042.770</td>\n",
       "      <td>Kecimen</td>\n",
       "    </tr>\n",
       "    <tr>\n",
       "      <th>14</th>\n",
       "      <td>74167</td>\n",
       "      <td>387.798931</td>\n",
       "      <td>247.858123</td>\n",
       "      <td>0.769090</td>\n",
       "      <td>76807</td>\n",
       "      <td>0.680182</td>\n",
       "      <td>1084.729</td>\n",
       "      <td>Kecimen</td>\n",
       "    </tr>\n",
       "    <tr>\n",
       "      <th>15</th>\n",
       "      <td>33565</td>\n",
       "      <td>261.554331</td>\n",
       "      <td>167.708491</td>\n",
       "      <td>0.767374</td>\n",
       "      <td>35794</td>\n",
       "      <td>0.681551</td>\n",
       "      <td>751.413</td>\n",
       "      <td>Kecimen</td>\n",
       "    </tr>\n",
       "    <tr>\n",
       "      <th>16</th>\n",
       "      <td>64670</td>\n",
       "      <td>403.083975</td>\n",
       "      <td>206.484644</td>\n",
       "      <td>0.858829</td>\n",
       "      <td>66419</td>\n",
       "      <td>0.756773</td>\n",
       "      <td>1028.445</td>\n",
       "      <td>Kecimen</td>\n",
       "    </tr>\n",
       "    <tr>\n",
       "      <th>17</th>\n",
       "      <td>64762</td>\n",
       "      <td>354.293940</td>\n",
       "      <td>235.752463</td>\n",
       "      <td>0.746474</td>\n",
       "      <td>66713</td>\n",
       "      <td>0.694998</td>\n",
       "      <td>981.509</td>\n",
       "      <td>Kecimen</td>\n",
       "    </tr>\n",
       "    <tr>\n",
       "      <th>18</th>\n",
       "      <td>43295</td>\n",
       "      <td>304.284467</td>\n",
       "      <td>182.811037</td>\n",
       "      <td>0.799407</td>\n",
       "      <td>44714</td>\n",
       "      <td>0.713838</td>\n",
       "      <td>814.680</td>\n",
       "      <td>Kecimen</td>\n",
       "    </tr>\n",
       "    <tr>\n",
       "      <th>19</th>\n",
       "      <td>70699</td>\n",
       "      <td>418.698572</td>\n",
       "      <td>216.596054</td>\n",
       "      <td>0.855799</td>\n",
       "      <td>72363</td>\n",
       "      <td>0.728075</td>\n",
       "      <td>1061.321</td>\n",
       "      <td>Kecimen</td>\n",
       "    </tr>\n",
       "    <tr>\n",
       "      <th>20</th>\n",
       "      <td>69726</td>\n",
       "      <td>354.176912</td>\n",
       "      <td>252.529208</td>\n",
       "      <td>0.701161</td>\n",
       "      <td>71849</td>\n",
       "      <td>0.734399</td>\n",
       "      <td>1035.501</td>\n",
       "      <td>Kecimen</td>\n",
       "    </tr>\n",
       "    <tr>\n",
       "      <th>21</th>\n",
       "      <td>57346</td>\n",
       "      <td>330.478438</td>\n",
       "      <td>222.443748</td>\n",
       "      <td>0.739555</td>\n",
       "      <td>59365</td>\n",
       "      <td>0.723609</td>\n",
       "      <td>928.272</td>\n",
       "      <td>Kecimen</td>\n",
       "    </tr>\n",
       "    <tr>\n",
       "      <th>22</th>\n",
       "      <td>82028</td>\n",
       "      <td>397.114976</td>\n",
       "      <td>268.333773</td>\n",
       "      <td>0.737169</td>\n",
       "      <td>84427</td>\n",
       "      <td>0.686375</td>\n",
       "      <td>1106.355</td>\n",
       "      <td>Kecimen</td>\n",
       "    </tr>\n",
       "    <tr>\n",
       "      <th>23</th>\n",
       "      <td>61251</td>\n",
       "      <td>301.507790</td>\n",
       "      <td>273.659941</td>\n",
       "      <td>0.419754</td>\n",
       "      <td>64732</td>\n",
       "      <td>0.643596</td>\n",
       "      <td>971.769</td>\n",
       "      <td>Kecimen</td>\n",
       "    </tr>\n",
       "    <tr>\n",
       "      <th>24</th>\n",
       "      <td>96277</td>\n",
       "      <td>447.134523</td>\n",
       "      <td>275.216154</td>\n",
       "      <td>0.788128</td>\n",
       "      <td>97865</td>\n",
       "      <td>0.704057</td>\n",
       "      <td>1181.921</td>\n",
       "      <td>Kecimen</td>\n",
       "    </tr>\n",
       "    <tr>\n",
       "      <th>25</th>\n",
       "      <td>75620</td>\n",
       "      <td>368.224284</td>\n",
       "      <td>263.459255</td>\n",
       "      <td>0.698627</td>\n",
       "      <td>77493</td>\n",
       "      <td>0.726277</td>\n",
       "      <td>1059.186</td>\n",
       "      <td>Kecimen</td>\n",
       "    </tr>\n",
       "    <tr>\n",
       "      <th>26</th>\n",
       "      <td>73167</td>\n",
       "      <td>340.055218</td>\n",
       "      <td>276.015177</td>\n",
       "      <td>0.584106</td>\n",
       "      <td>74545</td>\n",
       "      <td>0.778737</td>\n",
       "      <td>1010.474</td>\n",
       "      <td>Kecimen</td>\n",
       "    </tr>\n",
       "    <tr>\n",
       "      <th>27</th>\n",
       "      <td>60847</td>\n",
       "      <td>336.923870</td>\n",
       "      <td>231.465696</td>\n",
       "      <td>0.726660</td>\n",
       "      <td>62492</td>\n",
       "      <td>0.698588</td>\n",
       "      <td>964.603</td>\n",
       "      <td>Kecimen</td>\n",
       "    </tr>\n",
       "    <tr>\n",
       "      <th>28</th>\n",
       "      <td>81021</td>\n",
       "      <td>347.750058</td>\n",
       "      <td>297.640626</td>\n",
       "      <td>0.517135</td>\n",
       "      <td>82552</td>\n",
       "      <td>0.757560</td>\n",
       "      <td>1063.868</td>\n",
       "      <td>Kecimen</td>\n",
       "    </tr>\n",
       "    <tr>\n",
       "      <th>29</th>\n",
       "      <td>59902</td>\n",
       "      <td>358.591915</td>\n",
       "      <td>222.902027</td>\n",
       "      <td>0.783332</td>\n",
       "      <td>63250</td>\n",
       "      <td>0.744124</td>\n",
       "      <td>982.788</td>\n",
       "      <td>Kecimen</td>\n",
       "    </tr>\n",
       "    <tr>\n",
       "      <th>30</th>\n",
       "      <td>88745</td>\n",
       "      <td>429.770355</td>\n",
       "      <td>265.690236</td>\n",
       "      <td>0.786009</td>\n",
       "      <td>90715</td>\n",
       "      <td>0.752064</td>\n",
       "      <td>1162.877</td>\n",
       "      <td>Kecimen</td>\n",
       "    </tr>\n",
       "    <tr>\n",
       "      <th>31</th>\n",
       "      <td>41809</td>\n",
       "      <td>307.532739</td>\n",
       "      <td>175.085568</td>\n",
       "      <td>0.822114</td>\n",
       "      <td>43838</td>\n",
       "      <td>0.697444</td>\n",
       "      <td>828.697</td>\n",
       "      <td>Kecimen</td>\n",
       "    </tr>\n",
       "    <tr>\n",
       "      <th>32</th>\n",
       "      <td>75329</td>\n",
       "      <td>364.230780</td>\n",
       "      <td>265.866864</td>\n",
       "      <td>0.683510</td>\n",
       "      <td>77541</td>\n",
       "      <td>0.723080</td>\n",
       "      <td>1075.792</td>\n",
       "      <td>Kecimen</td>\n",
       "    </tr>\n",
       "    <tr>\n",
       "      <th>33</th>\n",
       "      <td>61600</td>\n",
       "      <td>350.182754</td>\n",
       "      <td>225.842771</td>\n",
       "      <td>0.764243</td>\n",
       "      <td>63397</td>\n",
       "      <td>0.746830</td>\n",
       "      <td>972.472</td>\n",
       "      <td>Kecimen</td>\n",
       "    </tr>\n",
       "    <tr>\n",
       "      <th>34</th>\n",
       "      <td>46427</td>\n",
       "      <td>253.842028</td>\n",
       "      <td>235.906824</td>\n",
       "      <td>0.369212</td>\n",
       "      <td>48275</td>\n",
       "      <td>0.684219</td>\n",
       "      <td>844.312</td>\n",
       "      <td>Kecimen</td>\n",
       "    </tr>\n",
       "    <tr>\n",
       "      <th>35</th>\n",
       "      <td>40861</td>\n",
       "      <td>249.740227</td>\n",
       "      <td>213.573272</td>\n",
       "      <td>0.518328</td>\n",
       "      <td>43096</td>\n",
       "      <td>0.743089</td>\n",
       "      <td>784.912</td>\n",
       "      <td>Kecimen</td>\n",
       "    </tr>\n",
       "    <tr>\n",
       "      <th>36</th>\n",
       "      <td>55827</td>\n",
       "      <td>305.298843</td>\n",
       "      <td>234.661225</td>\n",
       "      <td>0.639696</td>\n",
       "      <td>57724</td>\n",
       "      <td>0.703288</td>\n",
       "      <td>926.095</td>\n",
       "      <td>Kecimen</td>\n",
       "    </tr>\n",
       "    <tr>\n",
       "      <th>37</th>\n",
       "      <td>54182</td>\n",
       "      <td>366.066674</td>\n",
       "      <td>192.013274</td>\n",
       "      <td>0.851391</td>\n",
       "      <td>56450</td>\n",
       "      <td>0.611418</td>\n",
       "      <td>968.729</td>\n",
       "      <td>Kecimen</td>\n",
       "    </tr>\n",
       "    <tr>\n",
       "      <th>38</th>\n",
       "      <td>77468</td>\n",
       "      <td>405.936594</td>\n",
       "      <td>245.989798</td>\n",
       "      <td>0.795479</td>\n",
       "      <td>79220</td>\n",
       "      <td>0.721545</td>\n",
       "      <td>1100.676</td>\n",
       "      <td>Kecimen</td>\n",
       "    </tr>\n",
       "    <tr>\n",
       "      <th>39</th>\n",
       "      <td>49882</td>\n",
       "      <td>287.264327</td>\n",
       "      <td>222.185873</td>\n",
       "      <td>0.633852</td>\n",
       "      <td>50880</td>\n",
       "      <td>0.766378</td>\n",
       "      <td>843.764</td>\n",
       "      <td>Kecimen</td>\n",
       "    </tr>\n",
       "    <tr>\n",
       "      <th>40</th>\n",
       "      <td>95245</td>\n",
       "      <td>397.094114</td>\n",
       "      <td>307.273922</td>\n",
       "      <td>0.633422</td>\n",
       "      <td>97988</td>\n",
       "      <td>0.753044</td>\n",
       "      <td>1201.390</td>\n",
       "      <td>Kecimen</td>\n",
       "    </tr>\n",
       "    <tr>\n",
       "      <th>41</th>\n",
       "      <td>71464</td>\n",
       "      <td>364.103090</td>\n",
       "      <td>253.796927</td>\n",
       "      <td>0.717026</td>\n",
       "      <td>73265</td>\n",
       "      <td>0.715484</td>\n",
       "      <td>1036.940</td>\n",
       "      <td>Kecimen</td>\n",
       "    </tr>\n",
       "    <tr>\n",
       "      <th>42</th>\n",
       "      <td>77055</td>\n",
       "      <td>375.250132</td>\n",
       "      <td>262.812422</td>\n",
       "      <td>0.713784</td>\n",
       "      <td>79255</td>\n",
       "      <td>0.732267</td>\n",
       "      <td>1095.283</td>\n",
       "      <td>Kecimen</td>\n",
       "    </tr>\n",
       "    <tr>\n",
       "      <th>43</th>\n",
       "      <td>92384</td>\n",
       "      <td>368.406214</td>\n",
       "      <td>320.714579</td>\n",
       "      <td>0.492087</td>\n",
       "      <td>93772</td>\n",
       "      <td>0.749007</td>\n",
       "      <td>1135.662</td>\n",
       "      <td>Kecimen</td>\n",
       "    </tr>\n",
       "    <tr>\n",
       "      <th>44</th>\n",
       "      <td>77310</td>\n",
       "      <td>436.529899</td>\n",
       "      <td>228.280372</td>\n",
       "      <td>0.852367</td>\n",
       "      <td>80138</td>\n",
       "      <td>0.631721</td>\n",
       "      <td>1141.189</td>\n",
       "      <td>Kecimen</td>\n",
       "    </tr>\n",
       "    <tr>\n",
       "      <th>45</th>\n",
       "      <td>57580</td>\n",
       "      <td>330.228375</td>\n",
       "      <td>232.055387</td>\n",
       "      <td>0.711475</td>\n",
       "      <td>60232</td>\n",
       "      <td>0.645103</td>\n",
       "      <td>992.114</td>\n",
       "      <td>Kecimen</td>\n",
       "    </tr>\n",
       "    <tr>\n",
       "      <th>46</th>\n",
       "      <td>69708</td>\n",
       "      <td>375.447280</td>\n",
       "      <td>239.132775</td>\n",
       "      <td>0.770924</td>\n",
       "      <td>71321</td>\n",
       "      <td>0.727178</td>\n",
       "      <td>1022.568</td>\n",
       "      <td>Kecimen</td>\n",
       "    </tr>\n",
       "    <tr>\n",
       "      <th>47</th>\n",
       "      <td>41502</td>\n",
       "      <td>260.512675</td>\n",
       "      <td>205.865024</td>\n",
       "      <td>0.612810</td>\n",
       "      <td>43114</td>\n",
       "      <td>0.824319</td>\n",
       "      <td>790.427</td>\n",
       "      <td>Kecimen</td>\n",
       "    </tr>\n",
       "    <tr>\n",
       "      <th>48</th>\n",
       "      <td>45800</td>\n",
       "      <td>330.008683</td>\n",
       "      <td>181.665865</td>\n",
       "      <td>0.834843</td>\n",
       "      <td>47802</td>\n",
       "      <td>0.732683</td>\n",
       "      <td>870.387</td>\n",
       "      <td>Kecimen</td>\n",
       "    </tr>\n",
       "    <tr>\n",
       "      <th>49</th>\n",
       "      <td>52623</td>\n",
       "      <td>311.996758</td>\n",
       "      <td>218.041123</td>\n",
       "      <td>0.715261</td>\n",
       "      <td>54175</td>\n",
       "      <td>0.675191</td>\n",
       "      <td>902.624</td>\n",
       "      <td>Kecimen</td>\n",
       "    </tr>\n",
       "    <tr>\n",
       "      <th>50</th>\n",
       "      <td>44939</td>\n",
       "      <td>317.616712</td>\n",
       "      <td>183.315215</td>\n",
       "      <td>0.816632</td>\n",
       "      <td>46400</td>\n",
       "      <td>0.656178</td>\n",
       "      <td>845.786</td>\n",
       "      <td>Kecimen</td>\n",
       "    </tr>\n",
       "    <tr>\n",
       "      <th>51</th>\n",
       "      <td>114648</td>\n",
       "      <td>508.128933</td>\n",
       "      <td>288.953981</td>\n",
       "      <td>0.822571</td>\n",
       "      <td>118314</td>\n",
       "      <td>0.681905</td>\n",
       "      <td>1340.897</td>\n",
       "      <td>Kecimen</td>\n",
       "    </tr>\n",
       "    <tr>\n",
       "      <th>52</th>\n",
       "      <td>65727</td>\n",
       "      <td>403.194272</td>\n",
       "      <td>210.073264</td>\n",
       "      <td>0.853543</td>\n",
       "      <td>67372</td>\n",
       "      <td>0.616981</td>\n",
       "      <td>1030.155</td>\n",
       "      <td>Kecimen</td>\n",
       "    </tr>\n",
       "    <tr>\n",
       "      <th>53</th>\n",
       "      <td>45683</td>\n",
       "      <td>333.262532</td>\n",
       "      <td>177.772096</td>\n",
       "      <td>0.845844</td>\n",
       "      <td>48787</td>\n",
       "      <td>0.634231</td>\n",
       "      <td>901.102</td>\n",
       "      <td>Kecimen</td>\n",
       "    </tr>\n",
       "    <tr>\n",
       "      <th>54</th>\n",
       "      <td>111450</td>\n",
       "      <td>478.310971</td>\n",
       "      <td>298.630592</td>\n",
       "      <td>0.781150</td>\n",
       "      <td>113256</td>\n",
       "      <td>0.690093</td>\n",
       "      <td>1298.188</td>\n",
       "      <td>Kecimen</td>\n",
       "    </tr>\n",
       "    <tr>\n",
       "      <th>55</th>\n",
       "      <td>47581</td>\n",
       "      <td>306.811875</td>\n",
       "      <td>203.097502</td>\n",
       "      <td>0.749538</td>\n",
       "      <td>49203</td>\n",
       "      <td>0.667775</td>\n",
       "      <td>861.580</td>\n",
       "      <td>Kecimen</td>\n",
       "    </tr>\n",
       "    <tr>\n",
       "      <th>56</th>\n",
       "      <td>57127</td>\n",
       "      <td>311.644578</td>\n",
       "      <td>238.641921</td>\n",
       "      <td>0.643138</td>\n",
       "      <td>59943</td>\n",
       "      <td>0.693626</td>\n",
       "      <td>952.023</td>\n",
       "      <td>Kecimen</td>\n",
       "    </tr>\n",
       "    <tr>\n",
       "      <th>57</th>\n",
       "      <td>53006</td>\n",
       "      <td>333.381370</td>\n",
       "      <td>206.880708</td>\n",
       "      <td>0.784165</td>\n",
       "      <td>55456</td>\n",
       "      <td>0.691695</td>\n",
       "      <td>936.371</td>\n",
       "      <td>Kecimen</td>\n",
       "    </tr>\n",
       "    <tr>\n",
       "      <th>58</th>\n",
       "      <td>69060</td>\n",
       "      <td>328.488861</td>\n",
       "      <td>275.888865</td>\n",
       "      <td>0.542783</td>\n",
       "      <td>72223</td>\n",
       "      <td>0.727024</td>\n",
       "      <td>1039.551</td>\n",
       "      <td>Kecimen</td>\n",
       "    </tr>\n",
       "    <tr>\n",
       "      <th>59</th>\n",
       "      <td>25387</td>\n",
       "      <td>225.629541</td>\n",
       "      <td>144.618672</td>\n",
       "      <td>0.767577</td>\n",
       "      <td>26139</td>\n",
       "      <td>0.678144</td>\n",
       "      <td>619.074</td>\n",
       "      <td>Kecimen</td>\n",
       "    </tr>\n",
       "  </tbody>\n",
       "</table>\n",
       "</div>"
      ],
      "text/plain": [
       "      Area  MajorAxisLength  MinorAxisLength  Eccentricity  ConvexArea  \\\n",
       "0    87524       442.246011       253.291155      0.819738       90546   \n",
       "1    75166       406.690687       243.032436      0.801805       78789   \n",
       "2    90856       442.267048       266.328318      0.798354       93717   \n",
       "3    45928       286.540559       208.760042      0.684989       47336   \n",
       "4    79408       352.190770       290.827533      0.564011       81463   \n",
       "5    49242       318.125407       200.122120      0.777351       51368   \n",
       "6    42492       310.146072       176.131449      0.823099       43904   \n",
       "7    60952       332.455472       235.429835      0.706058       62329   \n",
       "8    42256       323.189607       172.575926      0.845499       44743   \n",
       "9    64380       366.964842       227.771615      0.784056       66125   \n",
       "10   80437       449.454581       232.325506      0.856043       84460   \n",
       "11   43725       301.322218       186.950629      0.784258       45021   \n",
       "12   43441       276.610829       201.813135      0.683882       45133   \n",
       "13   76792       338.857545       291.359202      0.510584       78842   \n",
       "14   74167       387.798931       247.858123      0.769090       76807   \n",
       "15   33565       261.554331       167.708491      0.767374       35794   \n",
       "16   64670       403.083975       206.484644      0.858829       66419   \n",
       "17   64762       354.293940       235.752463      0.746474       66713   \n",
       "18   43295       304.284467       182.811037      0.799407       44714   \n",
       "19   70699       418.698572       216.596054      0.855799       72363   \n",
       "20   69726       354.176912       252.529208      0.701161       71849   \n",
       "21   57346       330.478438       222.443748      0.739555       59365   \n",
       "22   82028       397.114976       268.333773      0.737169       84427   \n",
       "23   61251       301.507790       273.659941      0.419754       64732   \n",
       "24   96277       447.134523       275.216154      0.788128       97865   \n",
       "25   75620       368.224284       263.459255      0.698627       77493   \n",
       "26   73167       340.055218       276.015177      0.584106       74545   \n",
       "27   60847       336.923870       231.465696      0.726660       62492   \n",
       "28   81021       347.750058       297.640626      0.517135       82552   \n",
       "29   59902       358.591915       222.902027      0.783332       63250   \n",
       "30   88745       429.770355       265.690236      0.786009       90715   \n",
       "31   41809       307.532739       175.085568      0.822114       43838   \n",
       "32   75329       364.230780       265.866864      0.683510       77541   \n",
       "33   61600       350.182754       225.842771      0.764243       63397   \n",
       "34   46427       253.842028       235.906824      0.369212       48275   \n",
       "35   40861       249.740227       213.573272      0.518328       43096   \n",
       "36   55827       305.298843       234.661225      0.639696       57724   \n",
       "37   54182       366.066674       192.013274      0.851391       56450   \n",
       "38   77468       405.936594       245.989798      0.795479       79220   \n",
       "39   49882       287.264327       222.185873      0.633852       50880   \n",
       "40   95245       397.094114       307.273922      0.633422       97988   \n",
       "41   71464       364.103090       253.796927      0.717026       73265   \n",
       "42   77055       375.250132       262.812422      0.713784       79255   \n",
       "43   92384       368.406214       320.714579      0.492087       93772   \n",
       "44   77310       436.529899       228.280372      0.852367       80138   \n",
       "45   57580       330.228375       232.055387      0.711475       60232   \n",
       "46   69708       375.447280       239.132775      0.770924       71321   \n",
       "47   41502       260.512675       205.865024      0.612810       43114   \n",
       "48   45800       330.008683       181.665865      0.834843       47802   \n",
       "49   52623       311.996758       218.041123      0.715261       54175   \n",
       "50   44939       317.616712       183.315215      0.816632       46400   \n",
       "51  114648       508.128933       288.953981      0.822571      118314   \n",
       "52   65727       403.194272       210.073264      0.853543       67372   \n",
       "53   45683       333.262532       177.772096      0.845844       48787   \n",
       "54  111450       478.310971       298.630592      0.781150      113256   \n",
       "55   47581       306.811875       203.097502      0.749538       49203   \n",
       "56   57127       311.644578       238.641921      0.643138       59943   \n",
       "57   53006       333.381370       206.880708      0.784165       55456   \n",
       "58   69060       328.488861       275.888865      0.542783       72223   \n",
       "59   25387       225.629541       144.618672      0.767577       26139   \n",
       "\n",
       "      Extent  Perimeter    Class  \n",
       "0   0.758651   1184.040  Kecimen  \n",
       "1   0.684130   1121.786  Kecimen  \n",
       "2   0.637613   1208.575  Kecimen  \n",
       "3   0.699599    844.162  Kecimen  \n",
       "4   0.792772   1073.251  Kecimen  \n",
       "5   0.658456    881.836  Kecimen  \n",
       "6   0.665894    823.796  Kecimen  \n",
       "7   0.743598    933.366  Kecimen  \n",
       "8   0.698031    849.728  Kecimen  \n",
       "9   0.664376    981.544  Kecimen  \n",
       "10  0.674236   1176.305  Kecimen  \n",
       "11  0.697068    818.873  Kecimen  \n",
       "12  0.690856    803.748  Kecimen  \n",
       "13  0.772322   1042.770  Kecimen  \n",
       "14  0.680182   1084.729  Kecimen  \n",
       "15  0.681551    751.413  Kecimen  \n",
       "16  0.756773   1028.445  Kecimen  \n",
       "17  0.694998    981.509  Kecimen  \n",
       "18  0.713838    814.680  Kecimen  \n",
       "19  0.728075   1061.321  Kecimen  \n",
       "20  0.734399   1035.501  Kecimen  \n",
       "21  0.723609    928.272  Kecimen  \n",
       "22  0.686375   1106.355  Kecimen  \n",
       "23  0.643596    971.769  Kecimen  \n",
       "24  0.704057   1181.921  Kecimen  \n",
       "25  0.726277   1059.186  Kecimen  \n",
       "26  0.778737   1010.474  Kecimen  \n",
       "27  0.698588    964.603  Kecimen  \n",
       "28  0.757560   1063.868  Kecimen  \n",
       "29  0.744124    982.788  Kecimen  \n",
       "30  0.752064   1162.877  Kecimen  \n",
       "31  0.697444    828.697  Kecimen  \n",
       "32  0.723080   1075.792  Kecimen  \n",
       "33  0.746830    972.472  Kecimen  \n",
       "34  0.684219    844.312  Kecimen  \n",
       "35  0.743089    784.912  Kecimen  \n",
       "36  0.703288    926.095  Kecimen  \n",
       "37  0.611418    968.729  Kecimen  \n",
       "38  0.721545   1100.676  Kecimen  \n",
       "39  0.766378    843.764  Kecimen  \n",
       "40  0.753044   1201.390  Kecimen  \n",
       "41  0.715484   1036.940  Kecimen  \n",
       "42  0.732267   1095.283  Kecimen  \n",
       "43  0.749007   1135.662  Kecimen  \n",
       "44  0.631721   1141.189  Kecimen  \n",
       "45  0.645103    992.114  Kecimen  \n",
       "46  0.727178   1022.568  Kecimen  \n",
       "47  0.824319    790.427  Kecimen  \n",
       "48  0.732683    870.387  Kecimen  \n",
       "49  0.675191    902.624  Kecimen  \n",
       "50  0.656178    845.786  Kecimen  \n",
       "51  0.681905   1340.897  Kecimen  \n",
       "52  0.616981   1030.155  Kecimen  \n",
       "53  0.634231    901.102  Kecimen  \n",
       "54  0.690093   1298.188  Kecimen  \n",
       "55  0.667775    861.580  Kecimen  \n",
       "56  0.693626    952.023  Kecimen  \n",
       "57  0.691695    936.371  Kecimen  \n",
       "58  0.727024   1039.551  Kecimen  \n",
       "59  0.678144    619.074  Kecimen  "
      ]
     },
     "execution_count": 3,
     "metadata": {},
     "output_type": "execute_result"
    }
   ],
   "source": [
    "df_raisin.head(60) "
   ]
  },
  {
   "cell_type": "code",
   "execution_count": 4,
   "metadata": {},
   "outputs": [
    {
     "name": "stdout",
     "output_type": "stream",
     "text": [
      "<class 'pandas.core.frame.DataFrame'>\n",
      "RangeIndex: 900 entries, 0 to 899\n",
      "Data columns (total 8 columns):\n",
      " #   Column           Non-Null Count  Dtype  \n",
      "---  ------           --------------  -----  \n",
      " 0   Area             900 non-null    int64  \n",
      " 1   MajorAxisLength  900 non-null    float64\n",
      " 2   MinorAxisLength  900 non-null    float64\n",
      " 3   Eccentricity     900 non-null    float64\n",
      " 4   ConvexArea       900 non-null    int64  \n",
      " 5   Extent           900 non-null    float64\n",
      " 6   Perimeter        900 non-null    float64\n",
      " 7   Class            900 non-null    object \n",
      "dtypes: float64(5), int64(2), object(1)\n",
      "memory usage: 56.4+ KB\n"
     ]
    }
   ],
   "source": [
    "df_raisin.info()"
   ]
  },
  {
   "cell_type": "code",
   "execution_count": 5,
   "metadata": {},
   "outputs": [
    {
     "data": {
      "text/plain": [
       "<Figure size 720x432 with 0 Axes>"
      ]
     },
     "metadata": {},
     "output_type": "display_data"
    }
   ],
   "source": [
    "figure=plt.figure(figsize=(10,6))\n"
   ]
  },
  {
   "cell_type": "code",
   "execution_count": 6,
   "metadata": {},
   "outputs": [],
   "source": [
    "#EDA"
   ]
  },
  {
   "cell_type": "code",
   "execution_count": 7,
   "metadata": {},
   "outputs": [
    {
     "data": {
      "text/plain": [
       "<matplotlib.legend.Legend at 0x1223c3fe50>"
      ]
     },
     "execution_count": 7,
     "metadata": {},
     "output_type": "execute_result"
    },
    {
     "data": {
      "image/png": "[encoded data removed]",
      "text/plain": [
       "<Figure size 432x288 with 1 Axes>"
      ]
     },
     "metadata": {
      "needs_background": "light"
     },
     "output_type": "display_data"
    }
   ],
   "source": [
    "df_raisin[df_raisin[\"Class\"]==\"Kecimen\"][\"Area\"].hist(alpha=0.3,color=\"red\",bins=30,label=\"Kecimen\")\n",
    "df_raisin[df_raisin[\"Class\"]==\"Besni\"][\"Area\"].hist(alpha=0.3,color=\"blue\",bins=30,label=\"Besni\")\n",
    "# There is noticeable difference in area distribution( Gives the number of pixels within the boundaries of the raisin.) in both types of raisin \n",
    "plt.title(\" Area distribution of raisins\")\n",
    "plt.legend()"
   ]
  },
  {
   "cell_type": "code",
   "execution_count": 8,
   "metadata": {},
   "outputs": [
    {
     "data": {
      "text/plain": [
       "<matplotlib.legend.Legend at 0x1223fba820>"
      ]
     },
     "execution_count": 8,
     "metadata": {},
     "output_type": "execute_result"
    },
    {
     "data": {
      "image/png": "[encoded data removed]",
      "text/plain": [
       "<Figure size 432x288 with 1 Axes>"
      ]
     },
     "metadata": {
      "needs_background": "light"
     },
     "output_type": "display_data"
    }
   ],
   "source": [
    "df_raisin[df_raisin[\"Class\"]==\"Kecimen\"][\"MajorAxisLength\"].hist(alpha=0.3,color=\"red\",bins=30,label=\"Kecimen\")\n",
    "df_raisin[df_raisin[\"Class\"]==\"Besni\"][\"MajorAxisLength\"].hist(alpha=0.3,color=\"blue\",bins=30,label=\"Besni\")\n",
    "plt.title(\"Major Axis Length distribution of raisins\")\n",
    "plt.legend()\n",
    "# There is noticeable difference in MajorAxisLength distribution( Gives the length of the main axis, which is the longest line that can be drawn on the raisin) in both types of raisin "
   ]
  },
  {
   "cell_type": "code",
   "execution_count": 9,
   "metadata": {},
   "outputs": [
    {
     "data": {
      "text/plain": [
       "<matplotlib.legend.Legend at 0x12241e8e50>"
      ]
     },
     "execution_count": 9,
     "metadata": {},
     "output_type": "execute_result"
    },
    {
     "data": {
      "image/png": "[encoded data removed]",
      "text/plain": [
       "<Figure size 432x288 with 1 Axes>"
      ]
     },
     "metadata": {
      "needs_background": "light"
     },
     "output_type": "display_data"
    }
   ],
   "source": [
    "\n",
    "df_raisin[df_raisin[\"Class\"]==\"Kecimen\"][\"Perimeter\"].hist(alpha=0.3,color=\"red\",bins=30,label=\"Kecimen\")\n",
    "df_raisin[df_raisin[\"Class\"]==\"Besni\"][\"Perimeter\"].hist(alpha=0.3,color=\"blue\",bins=30,label=\"Besni\")\n",
    "plt.title(\"Perimeter distribution of raisins\")\n",
    "plt.legend()\n",
    "# There is noticeable difference in Perimeter distribution(It measures the environment by calculating the distance between the boundaries of the raisin and the pixels around it.) in both types of raisin "
   ]
  },
  {
   "cell_type": "code",
   "execution_count": 10,
   "metadata": {},
   "outputs": [
    {
     "data": {
      "text/plain": [
       "<matplotlib.legend.Legend at 0x12242efee0>"
      ]
     },
     "execution_count": 10,
     "metadata": {},
     "output_type": "execute_result"
    },
    {
     "data": {
      "image/png": "[encoded data removed]",
      "text/plain": [
       "<Figure size 432x288 with 1 Axes>"
      ]
     },
     "metadata": {
      "needs_background": "light"
     },
     "output_type": "display_data"
    }
   ],
   "source": [
    "\n",
    "\n",
    "df_raisin[df_raisin[\"Class\"]==\"Kecimen\"][\"MinorAxisLength\"].hist(alpha=0.3,color=\"red\",bins=30,label=\"Kecimen\")\n",
    "df_raisin[df_raisin[\"Class\"]==\"Besni\"][\"MinorAxisLength\"].hist(alpha=0.3,color=\"blue\",bins=30,label=\"Besni\")\n",
    "plt.title(\"MinorAxisLength distribution of raisins\")\n",
    "plt.legend()\n",
    "# There is noticeable difference in MinorAxisLength distribution(Gives the length of the small axis, which is the shortest line that can be drawn on the raisin..) in both types of raisin \n"
   ]
  },
  {
   "cell_type": "code",
   "execution_count": 11,
   "metadata": {},
   "outputs": [
    {
     "data": {
      "text/plain": [
       "<matplotlib.legend.Legend at 0x122433d7c0>"
      ]
     },
     "execution_count": 11,
     "metadata": {},
     "output_type": "execute_result"
    },
    {
     "data": {
      "image/png": "[encoded data removed]",
      "text/plain": [
       "<Figure size 432x288 with 1 Axes>"
      ]
     },
     "metadata": {
      "needs_background": "light"
     },
     "output_type": "display_data"
    }
   ],
   "source": [
    "\n",
    "\n",
    "df_raisin[df_raisin[\"Class\"]==\"Kecimen\"][\"Eccentricity\"].hist(alpha=0.3,color=\"red\",bins=30,label=\"Kecimen\")\n",
    "df_raisin[df_raisin[\"Class\"]==\"Besni\"][\"Eccentricity\"].hist(alpha=0.3,color=\"blue\",bins=30,label=\"Besni\")\n",
    "plt.title(\"Eccentricity distribution of raisins\")\n",
    "plt.legend()\n",
    "# There is noticeable difference in Eccentricity distribution(It gives a measure of the eccentricity of the ellipse, which has the same moments as raisins) in both types of raisin \n"
   ]
  },
  {
   "cell_type": "code",
   "execution_count": 12,
   "metadata": {},
   "outputs": [
    {
     "data": {
      "text/plain": [
       "<matplotlib.legend.Legend at 0x12244a3100>"
      ]
     },
     "execution_count": 12,
     "metadata": {},
     "output_type": "execute_result"
    },
    {
     "data": {
      "image/png": "[encoded data removed]",
      "text/plain": [
       "<Figure size 432x288 with 1 Axes>"
      ]
     },
     "metadata": {
      "needs_background": "light"
     },
     "output_type": "display_data"
    }
   ],
   "source": [
    "\n",
    "\n",
    "df_raisin[df_raisin[\"Class\"]==\"Kecimen\"][\"ConvexArea\"].hist(alpha=0.3,color=\"red\",bins=30,label=\"Kecimen\")\n",
    "df_raisin[df_raisin[\"Class\"]==\"Besni\"][\"ConvexArea\"].hist(alpha=0.3,color=\"blue\",bins=30,label=\"Besni\")\n",
    "plt.title(\"ConvexArea distribution of raisins\")\n",
    "plt.legend()\n",
    "# There is noticeable difference in ConvexArea distribution(Gives the number of pixels of the smallest convex shell of the region formed by the raisin) in both types of raisin \n"
   ]
  },
  {
   "cell_type": "code",
   "execution_count": 13,
   "metadata": {},
   "outputs": [
    {
     "data": {
      "text/plain": [
       "<matplotlib.legend.Legend at 0x12245a5af0>"
      ]
     },
     "execution_count": 13,
     "metadata": {},
     "output_type": "execute_result"
    },
    {
     "data": {
      "image/png": "[encoded data removed]",
      "text/plain": [
       "<Figure size 432x288 with 1 Axes>"
      ]
     },
     "metadata": {
      "needs_background": "light"
     },
     "output_type": "display_data"
    }
   ],
   "source": [
    "\n",
    "\n",
    "df_raisin[df_raisin[\"Class\"]==\"Kecimen\"][\"Extent\"].hist(alpha=0.3,color=\"red\",bins=30,label=\"Kecimen\")\n",
    "df_raisin[df_raisin[\"Class\"]==\"Besni\"][\"Extent\"].hist(alpha=0.3,color=\"blue\",bins=30,label=\"Besni\")\n",
    "plt.title(\"Extent distribution of raisins\")\n",
    "plt.legend()\n",
    "# There is very less difference  in Extent distribution(Gives the ratio of the region formed by the raisin to the total pixels in the bounding box.) in both types of raisin \n"
   ]
  },
  {
   "cell_type": "code",
   "execution_count": 14,
   "metadata": {},
   "outputs": [
    {
     "data": {
      "text/plain": [
       "<matplotlib.collections.PathCollection at 0x1224659e20>"
      ]
     },
     "execution_count": 14,
     "metadata": {},
     "output_type": "execute_result"
    },
    {
     "data": {
      "image/png": "[encoded data removed]",
      "text/plain": [
       "<Figure size 432x288 with 1 Axes>"
      ]
     },
     "metadata": {
      "needs_background": "light"
     },
     "output_type": "display_data"
    }
   ],
   "source": [
    "plt.scatter(x=\"Perimeter\",y=\"Area\",data=df_raisin[df_raisin[\"Class\"]==\"Kecimen\"])\n",
    "plt.scatter(x=\"Perimeter\",y=\"Area\",data=df_raisin[df_raisin[\"Class\"]==\"Besni\"])\n",
    "\n",
    "# Linear relationship observed with similar slope"
   ]
  },
  {
   "cell_type": "code",
   "execution_count": 15,
   "metadata": {},
   "outputs": [
    {
     "data": {
      "text/plain": [
       "<matplotlib.collections.PathCollection at 0x12246c7250>"
      ]
     },
     "execution_count": 15,
     "metadata": {},
     "output_type": "execute_result"
    },
    {
     "data": {
      "image/png": "[encoded data removed]",
      "text/plain": [
       "<Figure size 432x288 with 1 Axes>"
      ]
     },
     "metadata": {
      "needs_background": "light"
     },
     "output_type": "display_data"
    }
   ],
   "source": [
    "plt.scatter(x=\"MajorAxisLength\",y=\"MinorAxisLength\",data=df_raisin[df_raisin[\"Class\"]==\"Kecimen\"])\n",
    "plt.scatter(x=\"MajorAxisLength\",y=\"MinorAxisLength\",data=df_raisin[df_raisin[\"Class\"]==\"Besni\"])\n"
   ]
  },
  {
   "cell_type": "code",
   "execution_count": 16,
   "metadata": {},
   "outputs": [],
   "source": [
    "# Logistic Regression model for classification"
   ]
  },
  {
   "cell_type": "code",
   "execution_count": 17,
   "metadata": {},
   "outputs": [],
   "source": [
    "#Training model without scaling features"
   ]
  },
  {
   "cell_type": "code",
   "execution_count": 18,
   "metadata": {},
   "outputs": [
    {
     "data": {
      "text/html": [
       "<div>\n",
       "<style scoped>\n",
       "    .dataframe tbody tr th:only-of-type {\n",
       "        vertical-align: middle;\n",
       "    }\n",
       "\n",
       "    .dataframe tbody tr th {\n",
       "        vertical-align: top;\n",
       "    }\n",
       "\n",
       "    .dataframe thead th {\n",
       "        text-align: right;\n",
       "    }\n",
       "</style>\n",
       "<table border=\"1\" class=\"dataframe\">\n",
       "  <thead>\n",
       "    <tr style=\"text-align: right;\">\n",
       "      <th></th>\n",
       "      <th>Area</th>\n",
       "      <th>MajorAxisLength</th>\n",
       "      <th>MinorAxisLength</th>\n",
       "      <th>Eccentricity</th>\n",
       "      <th>ConvexArea</th>\n",
       "      <th>Extent</th>\n",
       "      <th>Perimeter</th>\n",
       "    </tr>\n",
       "  </thead>\n",
       "  <tbody>\n",
       "    <tr>\n",
       "      <th>0</th>\n",
       "      <td>-0.007186</td>\n",
       "      <td>0.097577</td>\n",
       "      <td>-0.023958</td>\n",
       "      <td>0.423142</td>\n",
       "      <td>-0.015709</td>\n",
       "      <td>1.106743</td>\n",
       "      <td>0.066274</td>\n",
       "    </tr>\n",
       "    <tr>\n",
       "      <th>1</th>\n",
       "      <td>-0.324217</td>\n",
       "      <td>-0.209012</td>\n",
       "      <td>-0.229292</td>\n",
       "      <td>0.224476</td>\n",
       "      <td>-0.304248</td>\n",
       "      <td>-0.287777</td>\n",
       "      <td>-0.161252</td>\n",
       "    </tr>\n",
       "    <tr>\n",
       "      <th>2</th>\n",
       "      <td>0.078292</td>\n",
       "      <td>0.097758</td>\n",
       "      <td>0.236988</td>\n",
       "      <td>0.186239</td>\n",
       "      <td>0.062113</td>\n",
       "      <td>-1.158250</td>\n",
       "      <td>0.155945</td>\n",
       "    </tr>\n",
       "    <tr>\n",
       "      <th>3</th>\n",
       "      <td>-1.074286</td>\n",
       "      <td>-1.245051</td>\n",
       "      <td>-0.915273</td>\n",
       "      <td>-1.069623</td>\n",
       "      <td>-1.076165</td>\n",
       "      <td>0.001711</td>\n",
       "      <td>-1.175915</td>\n",
       "    </tr>\n",
       "    <tr>\n",
       "      <th>4</th>\n",
       "      <td>-0.215393</td>\n",
       "      <td>-0.678958</td>\n",
       "      <td>0.727354</td>\n",
       "      <td>-2.409827</td>\n",
       "      <td>-0.238623</td>\n",
       "      <td>1.745259</td>\n",
       "      <td>-0.338639</td>\n",
       "    </tr>\n",
       "    <tr>\n",
       "      <th>...</th>\n",
       "      <td>...</td>\n",
       "      <td>...</td>\n",
       "      <td>...</td>\n",
       "      <td>...</td>\n",
       "      <td>...</td>\n",
       "      <td>...</td>\n",
       "      <td>...</td>\n",
       "    </tr>\n",
       "    <tr>\n",
       "      <th>895</th>\n",
       "      <td>-0.116882</td>\n",
       "      <td>-0.007352</td>\n",
       "      <td>-0.133092</td>\n",
       "      <td>0.395714</td>\n",
       "      <td>-0.131228</td>\n",
       "      <td>-0.574773</td>\n",
       "      <td>-0.134624</td>\n",
       "    </tr>\n",
       "    <tr>\n",
       "      <th>896</th>\n",
       "      <td>-0.011650</td>\n",
       "      <td>0.084554</td>\n",
       "      <td>0.096175</td>\n",
       "      <td>0.300071</td>\n",
       "      <td>-0.007046</td>\n",
       "      <td>-1.179518</td>\n",
       "      <td>0.176693</td>\n",
       "    </tr>\n",
       "    <tr>\n",
       "      <th>897</th>\n",
       "      <td>0.304072</td>\n",
       "      <td>0.006700</td>\n",
       "      <td>0.887674</td>\n",
       "      <td>-0.663114</td>\n",
       "      <td>0.370041</td>\n",
       "      <td>0.778289</td>\n",
       "      <td>0.463873</td>\n",
       "    </tr>\n",
       "    <tr>\n",
       "      <th>898</th>\n",
       "      <td>0.146711</td>\n",
       "      <td>0.391600</td>\n",
       "      <td>-0.006246</td>\n",
       "      <td>0.711173</td>\n",
       "      <td>0.158710</td>\n",
       "      <td>-0.761804</td>\n",
       "      <td>0.338586</td>\n",
       "    </tr>\n",
       "    <tr>\n",
       "      <th>899</th>\n",
       "      <td>-0.056314</td>\n",
       "      <td>0.699762</td>\n",
       "      <td>-0.784933</td>\n",
       "      <td>1.393660</td>\n",
       "      <td>-0.048816</td>\n",
       "      <td>-1.262909</td>\n",
       "      <td>0.390901</td>\n",
       "    </tr>\n",
       "  </tbody>\n",
       "</table>\n",
       "<p>900 rows × 7 columns</p>\n",
       "</div>"
      ],
      "text/plain": [
       "         Area  MajorAxisLength  MinorAxisLength  Eccentricity  ConvexArea  \\\n",
       "0   -0.007186         0.097577        -0.023958      0.423142   -0.015709   \n",
       "1   -0.324217        -0.209012        -0.229292      0.224476   -0.304248   \n",
       "2    0.078292         0.097758         0.236988      0.186239    0.062113   \n",
       "3   -1.074286        -1.245051        -0.915273     -1.069623   -1.076165   \n",
       "4   -0.215393        -0.678958         0.727354     -2.409827   -0.238623   \n",
       "..        ...              ...              ...           ...         ...   \n",
       "895 -0.116882        -0.007352        -0.133092      0.395714   -0.131228   \n",
       "896 -0.011650         0.084554         0.096175      0.300071   -0.007046   \n",
       "897  0.304072         0.006700         0.887674     -0.663114    0.370041   \n",
       "898  0.146711         0.391600        -0.006246      0.711173    0.158710   \n",
       "899 -0.056314         0.699762        -0.784933      1.393660   -0.048816   \n",
       "\n",
       "       Extent  Perimeter  \n",
       "0    1.106743   0.066274  \n",
       "1   -0.287777  -0.161252  \n",
       "2   -1.158250   0.155945  \n",
       "3    0.001711  -1.175915  \n",
       "4    1.745259  -0.338639  \n",
       "..        ...        ...  \n",
       "895 -0.574773  -0.134624  \n",
       "896 -1.179518   0.176693  \n",
       "897  0.778289   0.463873  \n",
       "898 -0.761804   0.338586  \n",
       "899 -1.262909   0.390901  \n",
       "\n",
       "[900 rows x 7 columns]"
      ]
     },
     "execution_count": 18,
     "metadata": {},
     "output_type": "execute_result"
    }
   ],
   "source": [
    "from sklearn.preprocessing import StandardScaler\n",
    "scaler=StandardScaler()\n",
    "scaler.fit(df_raisin.drop(\"Class\",axis=1))\n",
    "scaled_features=scaler.transform(df_raisin.drop(\"Class\",axis=1))\n",
    "df_new1=pd.DataFrame(scaled_features,columns=df_raisin.columns[:-1])\n",
    "df_new1"
   ]
  },
  {
   "cell_type": "code",
   "execution_count": 19,
   "metadata": {},
   "outputs": [],
   "source": [
    "from sklearn.model_selection import train_test_split\n",
    "x1=df_new1\n",
    "y1=df_raisin[\"Class\"]\n",
    "x_train1,x_test1,y_train1,y_test1=train_test_split(x1,y1,test_size=0.3,random_state=101)\n",
    "from sklearn.linear_model import LogisticRegression\n",
    "model1=LogisticRegression()\n",
    "model1.fit(x_train1,y_train1)\n",
    "predict1=model1.predict(x_test1)"
   ]
  },
  {
   "cell_type": "code",
   "execution_count": 20,
   "metadata": {},
   "outputs": [
    {
     "name": "stdout",
     "output_type": "stream",
     "text": [
      "{'Besni': {'precision': 0.8907563025210085, 'recall': 0.8153846153846154, 'f1-score': 0.8514056224899599, 'support': 130}, 'Kecimen': {'precision': 0.8410596026490066, 'recall': 0.9071428571428571, 'f1-score': 0.872852233676976, 'support': 140}, 'accuracy': 0.8629629629629629, 'macro avg': {'precision': 0.8659079525850075, 'recall': 0.8612637362637363, 'f1-score': 0.8621289280834679, 'support': 270}, 'weighted avg': {'precision': 0.8649876433281185, 'recall': 0.8629629629629629, 'f1-score': 0.8625260875498942, 'support': 270}}\n"
     ]
    }
   ],
   "source": [
    "from sklearn.metrics import classification_report,confusion_matrix\n",
    "C1=confusion_matrix(y_test1,predict1)\n",
    "R1=classification_report(y_test1,predict1,output_dict=True)\n",
    "\n",
    "print(R1)"
   ]
  },
  {
   "cell_type": "code",
   "execution_count": 21,
   "metadata": {},
   "outputs": [
    {
     "data": {
      "text/plain": [
       "array([[106,  24],\n",
       "       [ 13, 127]], dtype=int64)"
      ]
     },
     "execution_count": 21,
     "metadata": {},
     "output_type": "execute_result"
    }
   ],
   "source": [
    "C1"
   ]
  },
  {
   "cell_type": "code",
   "execution_count": 22,
   "metadata": {},
   "outputs": [],
   "source": [
    "# Training model without scaling the features values"
   ]
  },
  {
   "cell_type": "code",
   "execution_count": 23,
   "metadata": {},
   "outputs": [],
   "source": [
    "from sklearn.model_selection import train_test_split\n",
    "x2=df_raisin.drop(\"Class\",axis=1)\n",
    "y2=df_raisin[\"Class\"]\n",
    "x_train2,x_test2,y_train2,y_test2=train_test_split(x2,y2,test_size=0.3,random_state=101)\n",
    "from sklearn.linear_model import LogisticRegression\n",
    "model2=LogisticRegression()\n",
    "model2.fit(x_train2,y_train2)\n",
    "predict2=model2.predict(x_test2)"
   ]
  },
  {
   "cell_type": "code",
   "execution_count": 24,
   "metadata": {},
   "outputs": [],
   "source": [
    "from sklearn.metrics import classification_report,confusion_matrix\n",
    "C2=confusion_matrix(y_test2,predict2)\n",
    "R2=classification_report(y_test2,predict2,output_dict=True)"
   ]
  },
  {
   "cell_type": "code",
   "execution_count": 25,
   "metadata": {},
   "outputs": [
    {
     "data": {
      "text/plain": [
       "array([[106,  24],\n",
       "       [ 10, 130]], dtype=int64)"
      ]
     },
     "execution_count": 25,
     "metadata": {},
     "output_type": "execute_result"
    }
   ],
   "source": [
    "C2"
   ]
  },
  {
   "cell_type": "code",
   "execution_count": 26,
   "metadata": {},
   "outputs": [
    {
     "name": "stdout",
     "output_type": "stream",
     "text": [
      "{'Besni': {'precision': 0.9137931034482759, 'recall': 0.8153846153846154, 'f1-score': 0.8617886178861788, 'support': 130}, 'Kecimen': {'precision': 0.8441558441558441, 'recall': 0.9285714285714286, 'f1-score': 0.8843537414965986, 'support': 140}, 'accuracy': 0.8740740740740741, 'macro avg': {'precision': 0.87897447380206, 'recall': 0.871978021978022, 'f1-score': 0.8730711796913887, 'support': 270}, 'weighted avg': {'precision': 0.8776848949262743, 'recall': 0.8740740740740741, 'f1-score': 0.873489052350841, 'support': 270}}\n"
     ]
    }
   ],
   "source": [
    "print(R2)"
   ]
  },
  {
   "cell_type": "code",
   "execution_count": 27,
   "metadata": {},
   "outputs": [],
   "source": [
    "# It is noted from above both cases of logistic regression that use scaled  features the accuracy decrased by 0.01"
   ]
  },
  {
   "cell_type": "code",
   "execution_count": null,
   "metadata": {},
   "outputs": [],
   "source": []
  },
  {
   "cell_type": "code",
   "execution_count": 28,
   "metadata": {},
   "outputs": [],
   "source": [
    "# Using PCA to reduce number of features into principal components and check accuracy"
   ]
  },
  {
   "cell_type": "code",
   "execution_count": 29,
   "metadata": {},
   "outputs": [],
   "source": [
    "from sklearn.decomposition import PCA\n",
    "pca1=PCA(n_components=2)\n",
    "pca1.fit(scaled_features)\n",
    "x_pca1=pca1.transform(scaled_features)"
   ]
  },
  {
   "cell_type": "code",
   "execution_count": 30,
   "metadata": {},
   "outputs": [],
   "source": [
    "from sklearn.model_selection import train_test_split\n",
    "x3=x_pca1\n",
    "y3=df_raisin[\"Class\"]\n",
    "x_train3,x_test3,y_train3,y_test3=train_test_split(x3,y3,test_size=0.3,random_state=101)\n",
    "from sklearn.linear_model import LogisticRegression\n",
    "model3=LogisticRegression()\n",
    "model3.fit(x_train3,y_train3)\n",
    "predict3=model3.predict(x_test3)"
   ]
  },
  {
   "cell_type": "code",
   "execution_count": 31,
   "metadata": {},
   "outputs": [],
   "source": [
    "from sklearn.metrics import classification_report,confusion_matrix\n",
    "C3=confusion_matrix(y_test3,predict3)\n",
    "R3=classification_report(y_test3,predict3,output_dict=True)"
   ]
  },
  {
   "cell_type": "code",
   "execution_count": 32,
   "metadata": {},
   "outputs": [
    {
     "data": {
      "text/plain": [
       "array([[107,  23],\n",
       "       [ 10, 130]], dtype=int64)"
      ]
     },
     "execution_count": 32,
     "metadata": {},
     "output_type": "execute_result"
    }
   ],
   "source": [
    "C3"
   ]
  },
  {
   "cell_type": "code",
   "execution_count": 33,
   "metadata": {},
   "outputs": [
    {
     "name": "stdout",
     "output_type": "stream",
     "text": [
      "{'Besni': {'precision': 0.9145299145299145, 'recall': 0.823076923076923, 'f1-score': 0.8663967611336032, 'support': 130}, 'Kecimen': {'precision': 0.8496732026143791, 'recall': 0.9285714285714286, 'f1-score': 0.8873720136518771, 'support': 140}, 'accuracy': 0.8777777777777778, 'macro avg': {'precision': 0.8821015585721468, 'recall': 0.8758241758241758, 'f1-score': 0.8768843873927401, 'support': 270}, 'weighted avg': {'precision': 0.8809005083514887, 'recall': 0.8777777777777778, 'f1-score': 0.8772728179949303, 'support': 270}}\n"
     ]
    }
   ],
   "source": [
    "print(R3)\n",
    "# Accuracy of logistic regeression after PCA on scaled features is  greater than logistic regression model without scaling by 0.003."
   ]
  },
  {
   "cell_type": "code",
   "execution_count": 34,
   "metadata": {},
   "outputs": [],
   "source": [
    "#training SVM"
   ]
  },
  {
   "cell_type": "code",
   "execution_count": 35,
   "metadata": {},
   "outputs": [],
   "source": [
    "from sklearn.svm import SVC\n",
    "from sklearn.model_selection import GridSearchCV\n",
    "model4=SVC()\n",
    "param_grid={'C':[00.01,0.1,1,10,100,1000],'gamma':[1,0.1,0.01,0.001]}\n",
    "grid=GridSearchCV(SVC(),param_grid,verbose=3)\n"
   ]
  },
  {
   "cell_type": "code",
   "execution_count": 36,
   "metadata": {},
   "outputs": [
    {
     "name": "stdout",
     "output_type": "stream",
     "text": [
      "Fitting 5 folds for each of 24 candidates, totalling 120 fits\n",
      "[CV] C=0.01, gamma=1 .................................................\n",
      "[CV] ..................... C=0.01, gamma=1, score=0.508, total=   0.0s\n",
      "[CV] C=0.01, gamma=1 .................................................\n",
      "[CV] ..................... C=0.01, gamma=1, score=0.508, total=   0.0s\n",
      "[CV] C=0.01, gamma=1 .................................................\n",
      "[CV] ..................... C=0.01, gamma=1, score=0.508, total=   0.0s\n",
      "[CV] C=0.01, gamma=1 .................................................\n",
      "[CV] ..................... C=0.01, gamma=1, score=0.508, total=   0.0s\n",
      "[CV] C=0.01, gamma=1 .................................................\n",
      "[CV] ..................... C=0.01, gamma=1, score=0.508, total=   0.0s\n",
      "[CV] C=0.01, gamma=0.1 ...............................................\n",
      "[CV] ................... C=0.01, gamma=0.1, score=0.857, total=   0.0s\n",
      "[CV] C=0.01, gamma=0.1 ...............................................\n",
      "[CV] ................... C=0.01, gamma=0.1, score=0.881, total=   0.0s\n",
      "[CV] C=0.01, gamma=0.1 ...............................................\n",
      "[CV] ................... C=0.01, gamma=0.1, score=0.841, total=   0.0s\n",
      "[CV] C=0.01, gamma=0.1 ...............................................\n",
      "[CV] ................... C=0.01, gamma=0.1, score=0.825, total=   0.0s\n",
      "[CV] C=0.01, gamma=0.1 ...............................................\n",
      "[CV] ................... C=0.01, gamma=0.1, score=0.881, total=   0.0s\n",
      "[CV] C=0.01, gamma=0.01 ..............................................\n",
      "[CV] .................. C=0.01, gamma=0.01, score=0.508, total=   0.0s\n",
      "[CV] C=0.01, gamma=0.01 ..............................................\n",
      "[CV] .................. C=0.01, gamma=0.01, score=0.508, total=   0.0s\n",
      "[CV] C=0.01, gamma=0.01 ..............................................\n"
     ]
    },
    {
     "name": "stderr",
     "output_type": "stream",
     "text": [
      "[Parallel(n_jobs=1)]: Using backend SequentialBackend with 1 concurrent workers.\n",
      "[Parallel(n_jobs=1)]: Done   1 out of   1 | elapsed:    0.0s remaining:    0.0s\n",
      "[Parallel(n_jobs=1)]: Done   2 out of   2 | elapsed:    0.0s remaining:    0.0s\n"
     ]
    },
    {
     "name": "stdout",
     "output_type": "stream",
     "text": [
      "[CV] .................. C=0.01, gamma=0.01, score=0.508, total=   0.0s\n",
      "[CV] C=0.01, gamma=0.01 ..............................................\n",
      "[CV] .................. C=0.01, gamma=0.01, score=0.508, total=   0.0s\n",
      "[CV] C=0.01, gamma=0.01 ..............................................\n",
      "[CV] .................. C=0.01, gamma=0.01, score=0.508, total=   0.0s\n",
      "[CV] C=0.01, gamma=0.001 .............................................\n",
      "[CV] ................. C=0.01, gamma=0.001, score=0.508, total=   0.0s\n",
      "[CV] C=0.01, gamma=0.001 .............................................\n",
      "[CV] ................. C=0.01, gamma=0.001, score=0.508, total=   0.0s\n",
      "[CV] C=0.01, gamma=0.001 .............................................\n",
      "[CV] ................. C=0.01, gamma=0.001, score=0.508, total=   0.0s\n",
      "[CV] C=0.01, gamma=0.001 .............................................\n",
      "[CV] ................. C=0.01, gamma=0.001, score=0.508, total=   0.0s\n",
      "[CV] C=0.01, gamma=0.001 .............................................\n",
      "[CV] ................. C=0.01, gamma=0.001, score=0.508, total=   0.0s\n",
      "[CV] C=0.1, gamma=1 ..................................................\n",
      "[CV] ...................... C=0.1, gamma=1, score=0.841, total=   0.0s\n",
      "[CV] C=0.1, gamma=1 ..................................................\n",
      "[CV] ...................... C=0.1, gamma=1, score=0.873, total=   0.0s\n",
      "[CV] C=0.1, gamma=1 ..................................................\n",
      "[CV] ...................... C=0.1, gamma=1, score=0.817, total=   0.0s\n",
      "[CV] C=0.1, gamma=1 ..................................................\n",
      "[CV] ...................... C=0.1, gamma=1, score=0.849, total=   0.0s\n",
      "[CV] C=0.1, gamma=1 ..................................................\n",
      "[CV] ...................... C=0.1, gamma=1, score=0.849, total=   0.0s\n",
      "[CV] C=0.1, gamma=0.1 ................................................\n",
      "[CV] .................... C=0.1, gamma=0.1, score=0.865, total=   0.0s\n",
      "[CV] C=0.1, gamma=0.1 ................................................\n",
      "[CV] .................... C=0.1, gamma=0.1, score=0.889, total=   0.0s\n",
      "[CV] C=0.1, gamma=0.1 ................................................\n",
      "[CV] .................... C=0.1, gamma=0.1, score=0.849, total=   0.0s\n",
      "[CV] C=0.1, gamma=0.1 ................................................\n",
      "[CV] .................... C=0.1, gamma=0.1, score=0.841, total=   0.0s\n",
      "[CV] C=0.1, gamma=0.1 ................................................\n",
      "[CV] .................... C=0.1, gamma=0.1, score=0.897, total=   0.0s\n",
      "[CV] C=0.1, gamma=0.01 ...............................................\n",
      "[CV] ................... C=0.1, gamma=0.01, score=0.873, total=   0.0s\n",
      "[CV] C=0.1, gamma=0.01 ...............................................\n",
      "[CV] ................... C=0.1, gamma=0.01, score=0.857, total=   0.0s\n",
      "[CV] C=0.1, gamma=0.01 ...............................................\n",
      "[CV] ................... C=0.1, gamma=0.01, score=0.833, total=   0.0s\n",
      "[CV] C=0.1, gamma=0.01 ...............................................\n",
      "[CV] ................... C=0.1, gamma=0.01, score=0.778, total=   0.0s\n",
      "[CV] C=0.1, gamma=0.01 ...............................................\n",
      "[CV] ................... C=0.1, gamma=0.01, score=0.857, total=   0.0s\n",
      "[CV] C=0.1, gamma=0.001 ..............................................\n",
      "[CV] .................. C=0.1, gamma=0.001, score=0.651, total=   0.0s\n",
      "[CV] C=0.1, gamma=0.001 ..............................................\n",
      "[CV] .................. C=0.1, gamma=0.001, score=0.659, total=   0.0s\n",
      "[CV] C=0.1, gamma=0.001 ..............................................\n",
      "[CV] .................. C=0.1, gamma=0.001, score=0.651, total=   0.0s\n",
      "[CV] C=0.1, gamma=0.001 ..............................................\n",
      "[CV] .................. C=0.1, gamma=0.001, score=0.603, total=   0.0s\n",
      "[CV] C=0.1, gamma=0.001 ..............................................\n",
      "[CV] .................. C=0.1, gamma=0.001, score=0.619, total=   0.0s\n",
      "[CV] C=1, gamma=1 ....................................................\n",
      "[CV] ........................ C=1, gamma=1, score=0.865, total=   0.0s\n",
      "[CV] C=1, gamma=1 ....................................................\n",
      "[CV] ........................ C=1, gamma=1, score=0.881, total=   0.0s\n",
      "[CV] C=1, gamma=1 ....................................................\n",
      "[CV] ........................ C=1, gamma=1, score=0.865, total=   0.0s\n",
      "[CV] C=1, gamma=1 ....................................................\n",
      "[CV] ........................ C=1, gamma=1, score=0.825, total=   0.0s\n",
      "[CV] C=1, gamma=1 ....................................................\n",
      "[CV] ........................ C=1, gamma=1, score=0.889, total=   0.0s\n",
      "[CV] C=1, gamma=0.1 ..................................................\n",
      "[CV] ...................... C=1, gamma=0.1, score=0.841, total=   0.0s\n",
      "[CV] C=1, gamma=0.1 ..................................................\n",
      "[CV] ...................... C=1, gamma=0.1, score=0.897, total=   0.0s\n",
      "[CV] C=1, gamma=0.1 ..................................................\n",
      "[CV] ...................... C=1, gamma=0.1, score=0.849, total=   0.0s\n",
      "[CV] C=1, gamma=0.1 ..................................................\n",
      "[CV] ...................... C=1, gamma=0.1, score=0.833, total=   0.0s\n",
      "[CV] C=1, gamma=0.1 ..................................................\n",
      "[CV] ...................... C=1, gamma=0.1, score=0.897, total=   0.0s\n",
      "[CV] C=1, gamma=0.01 .................................................\n",
      "[CV] ..................... C=1, gamma=0.01, score=0.873, total=   0.0s\n",
      "[CV] C=1, gamma=0.01 .................................................\n",
      "[CV] ..................... C=1, gamma=0.01, score=0.889, total=   0.0s\n",
      "[CV] C=1, gamma=0.01 .................................................\n",
      "[CV] ..................... C=1, gamma=0.01, score=0.849, total=   0.0s\n",
      "[CV] C=1, gamma=0.01 .................................................\n",
      "[CV] ..................... C=1, gamma=0.01, score=0.849, total=   0.0s\n",
      "[CV] C=1, gamma=0.01 .................................................\n",
      "[CV] ..................... C=1, gamma=0.01, score=0.881, total=   0.0s\n",
      "[CV] C=1, gamma=0.001 ................................................\n",
      "[CV] .................... C=1, gamma=0.001, score=0.865, total=   0.0s\n",
      "[CV] C=1, gamma=0.001 ................................................\n",
      "[CV] .................... C=1, gamma=0.001, score=0.857, total=   0.0s\n",
      "[CV] C=1, gamma=0.001 ................................................\n",
      "[CV] .................... C=1, gamma=0.001, score=0.833, total=   0.0s\n",
      "[CV] C=1, gamma=0.001 ................................................\n",
      "[CV] .................... C=1, gamma=0.001, score=0.778, total=   0.0s\n",
      "[CV] C=1, gamma=0.001 ................................................\n",
      "[CV] .................... C=1, gamma=0.001, score=0.857, total=   0.0s\n",
      "[CV] C=10, gamma=1 ...................................................\n",
      "[CV] ....................... C=10, gamma=1, score=0.849, total=   0.0s\n",
      "[CV] C=10, gamma=1 ...................................................\n",
      "[CV] ....................... C=10, gamma=1, score=0.889, total=   0.0s\n",
      "[CV] C=10, gamma=1 ...................................................\n",
      "[CV] ....................... C=10, gamma=1, score=0.841, total=   0.0s\n",
      "[CV] C=10, gamma=1 ...................................................\n",
      "[CV] ....................... C=10, gamma=1, score=0.825, total=   0.0s\n",
      "[CV] C=10, gamma=1 ...................................................\n",
      "[CV] ....................... C=10, gamma=1, score=0.897, total=   0.0s\n",
      "[CV] C=10, gamma=0.1 .................................................\n",
      "[CV] ..................... C=10, gamma=0.1, score=0.849, total=   0.0s\n",
      "[CV] C=10, gamma=0.1 .................................................\n",
      "[CV] ..................... C=10, gamma=0.1, score=0.889, total=   0.0s\n",
      "[CV] C=10, gamma=0.1 .................................................\n",
      "[CV] ..................... C=10, gamma=0.1, score=0.849, total=   0.0s\n",
      "[CV] C=10, gamma=0.1 .................................................\n",
      "[CV] ..................... C=10, gamma=0.1, score=0.833, total=   0.0s\n",
      "[CV] C=10, gamma=0.1 .................................................\n",
      "[CV] ..................... C=10, gamma=0.1, score=0.889, total=   0.0s\n",
      "[CV] C=10, gamma=0.01 ................................................\n",
      "[CV] .................... C=10, gamma=0.01, score=0.881, total=   0.0s\n",
      "[CV] C=10, gamma=0.01 ................................................\n",
      "[CV] .................... C=10, gamma=0.01, score=0.889, total=   0.0s\n",
      "[CV] C=10, gamma=0.01 ................................................\n",
      "[CV] .................... C=10, gamma=0.01, score=0.849, total=   0.0s\n",
      "[CV] C=10, gamma=0.01 ................................................\n",
      "[CV] .................... C=10, gamma=0.01, score=0.849, total=   0.0s\n",
      "[CV] C=10, gamma=0.01 ................................................\n",
      "[CV] .................... C=10, gamma=0.01, score=0.881, total=   0.0s\n",
      "[CV] C=10, gamma=0.001 ...............................................\n",
      "[CV] ................... C=10, gamma=0.001, score=0.865, total=   0.0s\n",
      "[CV] C=10, gamma=0.001 ...............................................\n",
      "[CV] ................... C=10, gamma=0.001, score=0.889, total=   0.0s\n",
      "[CV] C=10, gamma=0.001 ...............................................\n",
      "[CV] ................... C=10, gamma=0.001, score=0.857, total=   0.0s\n",
      "[CV] C=10, gamma=0.001 ...............................................\n",
      "[CV] ................... C=10, gamma=0.001, score=0.841, total=   0.0s\n",
      "[CV] C=10, gamma=0.001 ...............................................\n",
      "[CV] ................... C=10, gamma=0.001, score=0.881, total=   0.0s\n",
      "[CV] C=100, gamma=1 ..................................................\n",
      "[CV] ...................... C=100, gamma=1, score=0.802, total=   0.0s\n",
      "[CV] C=100, gamma=1 ..................................................\n",
      "[CV] ...................... C=100, gamma=1, score=0.881, total=   0.0s\n",
      "[CV] C=100, gamma=1 ..................................................\n"
     ]
    },
    {
     "name": "stdout",
     "output_type": "stream",
     "text": [
      "[CV] ...................... C=100, gamma=1, score=0.857, total=   0.0s\n",
      "[CV] C=100, gamma=1 ..................................................\n",
      "[CV] ...................... C=100, gamma=1, score=0.778, total=   0.0s\n",
      "[CV] C=100, gamma=1 ..................................................\n",
      "[CV] ...................... C=100, gamma=1, score=0.857, total=   0.0s\n",
      "[CV] C=100, gamma=0.1 ................................................\n",
      "[CV] .................... C=100, gamma=0.1, score=0.857, total=   0.0s\n",
      "[CV] C=100, gamma=0.1 ................................................\n",
      "[CV] .................... C=100, gamma=0.1, score=0.889, total=   0.0s\n",
      "[CV] C=100, gamma=0.1 ................................................\n",
      "[CV] .................... C=100, gamma=0.1, score=0.857, total=   0.0s\n",
      "[CV] C=100, gamma=0.1 ................................................\n",
      "[CV] .................... C=100, gamma=0.1, score=0.833, total=   0.0s\n",
      "[CV] C=100, gamma=0.1 ................................................\n",
      "[CV] .................... C=100, gamma=0.1, score=0.865, total=   0.0s\n",
      "[CV] C=100, gamma=0.01 ...............................................\n",
      "[CV] ................... C=100, gamma=0.01, score=0.841, total=   0.0s\n",
      "[CV] C=100, gamma=0.01 ...............................................\n",
      "[CV] ................... C=100, gamma=0.01, score=0.889, total=   0.0s\n",
      "[CV] C=100, gamma=0.01 ...............................................\n",
      "[CV] ................... C=100, gamma=0.01, score=0.849, total=   0.0s\n",
      "[CV] C=100, gamma=0.01 ...............................................\n",
      "[CV] ................... C=100, gamma=0.01, score=0.833, total=   0.0s\n",
      "[CV] C=100, gamma=0.01 ...............................................\n",
      "[CV] ................... C=100, gamma=0.01, score=0.865, total=   0.0s\n",
      "[CV] C=100, gamma=0.001 ..............................................\n",
      "[CV] .................. C=100, gamma=0.001, score=0.873, total=   0.0s\n",
      "[CV] C=100, gamma=0.001 ..............................................\n",
      "[CV] .................. C=100, gamma=0.001, score=0.897, total=   0.0s\n",
      "[CV] C=100, gamma=0.001 ..............................................\n",
      "[CV] .................. C=100, gamma=0.001, score=0.857, total=   0.0s\n",
      "[CV] C=100, gamma=0.001 ..............................................\n",
      "[CV] .................. C=100, gamma=0.001, score=0.841, total=   0.0s\n",
      "[CV] C=100, gamma=0.001 ..............................................\n",
      "[CV] .................. C=100, gamma=0.001, score=0.881, total=   0.0s\n",
      "[CV] C=1000, gamma=1 .................................................\n",
      "[CV] ..................... C=1000, gamma=1, score=0.786, total=   0.0s\n",
      "[CV] C=1000, gamma=1 .................................................\n",
      "[CV] ..................... C=1000, gamma=1, score=0.841, total=   0.0s\n",
      "[CV] C=1000, gamma=1 .................................................\n",
      "[CV] ..................... C=1000, gamma=1, score=0.810, total=   0.0s\n",
      "[CV] C=1000, gamma=1 .................................................\n",
      "[CV] ..................... C=1000, gamma=1, score=0.722, total=   0.0s\n",
      "[CV] C=1000, gamma=1 .................................................\n",
      "[CV] ..................... C=1000, gamma=1, score=0.794, total=   0.0s\n",
      "[CV] C=1000, gamma=0.1 ...............................................\n",
      "[CV] ................... C=1000, gamma=0.1, score=0.857, total=   0.0s\n",
      "[CV] C=1000, gamma=0.1 ...............................................\n",
      "[CV] ................... C=1000, gamma=0.1, score=0.881, total=   0.0s\n",
      "[CV] C=1000, gamma=0.1 ...............................................\n",
      "[CV] ................... C=1000, gamma=0.1, score=0.841, total=   0.0s\n",
      "[CV] C=1000, gamma=0.1 ...............................................\n",
      "[CV] ................... C=1000, gamma=0.1, score=0.817, total=   0.0s\n",
      "[CV] C=1000, gamma=0.1 ...............................................\n",
      "[CV] ................... C=1000, gamma=0.1, score=0.873, total=   0.1s\n",
      "[CV] C=1000, gamma=0.01 ..............................................\n",
      "[CV] .................. C=1000, gamma=0.01, score=0.833, total=   0.0s\n",
      "[CV] C=1000, gamma=0.01 ..............................................\n",
      "[CV] .................. C=1000, gamma=0.01, score=0.905, total=   0.0s\n",
      "[CV] C=1000, gamma=0.01 ..............................................\n",
      "[CV] .................. C=1000, gamma=0.01, score=0.881, total=   0.0s\n",
      "[CV] C=1000, gamma=0.01 ..............................................\n",
      "[CV] .................. C=1000, gamma=0.01, score=0.841, total=   0.0s\n",
      "[CV] C=1000, gamma=0.01 ..............................................\n",
      "[CV] .................. C=1000, gamma=0.01, score=0.873, total=   0.0s\n",
      "[CV] C=1000, gamma=0.001 .............................................\n",
      "[CV] ................. C=1000, gamma=0.001, score=0.857, total=   0.0s\n",
      "[CV] C=1000, gamma=0.001 .............................................\n",
      "[CV] ................. C=1000, gamma=0.001, score=0.897, total=   0.0s\n",
      "[CV] C=1000, gamma=0.001 .............................................\n",
      "[CV] ................. C=1000, gamma=0.001, score=0.849, total=   0.0s\n",
      "[CV] C=1000, gamma=0.001 .............................................\n",
      "[CV] ................. C=1000, gamma=0.001, score=0.849, total=   0.0s\n",
      "[CV] C=1000, gamma=0.001 .............................................\n",
      "[CV] ................. C=1000, gamma=0.001, score=0.881, total=   0.0s\n"
     ]
    },
    {
     "name": "stderr",
     "output_type": "stream",
     "text": [
      "[Parallel(n_jobs=1)]: Done 120 out of 120 | elapsed:    1.9s finished\n"
     ]
    },
    {
     "data": {
      "text/plain": [
       "GridSearchCV(estimator=SVC(),\n",
       "             param_grid={'C': [0.01, 0.1, 1, 10, 100, 1000],\n",
       "                         'gamma': [1, 0.1, 0.01, 0.001]},\n",
       "             verbose=3)"
      ]
     },
     "execution_count": 36,
     "metadata": {},
     "output_type": "execute_result"
    }
   ],
   "source": [
    "grid.fit(x_train1,y_train1)"
   ]
  },
  {
   "cell_type": "code",
   "execution_count": 37,
   "metadata": {},
   "outputs": [
    {
     "name": "stdout",
     "output_type": "stream",
     "text": [
      "{'Besni': {'precision': 0.8, 'recall': 0.9203539823008849, 'f1-score': 0.8559670781893004, 'support': 113}, 'Kecimen': {'precision': 0.9357142857142857, 'recall': 0.8343949044585988, 'f1-score': 0.8821548821548822, 'support': 157}, 'accuracy': 0.8703703703703703, 'macro avg': {'precision': 0.8678571428571429, 'recall': 0.8773744433797419, 'f1-score': 0.8690609801720913, 'support': 270}, 'weighted avg': {'precision': 0.8789153439153439, 'recall': 0.8703703703703703, 'f1-score': 0.8711948012359535, 'support': 270}}\n",
      "[[104   9]\n",
      " [ 26 131]]\n"
     ]
    }
   ],
   "source": [
    "grid_predict1=grid.predict(x_test1)\n",
    "C4=confusion_matrix(grid_predict1,y_test1)\n",
    "R4=classification_report(grid_predict1,y_test1,output_dict=True)\n",
    "#Svm for scaled features gives good accuracy\n",
    "print(R4)\n",
    "print(C4)"
   ]
  },
  {
   "cell_type": "code",
   "execution_count": null,
   "metadata": {},
   "outputs": [],
   "source": []
  },
  {
   "cell_type": "code",
   "execution_count": null,
   "metadata": {},
   "outputs": [],
   "source": []
  },
  {
   "cell_type": "code",
   "execution_count": 38,
   "metadata": {},
   "outputs": [
    {
     "name": "stderr",
     "output_type": "stream",
     "text": [
      "[Parallel(n_jobs=1)]: Using backend SequentialBackend with 1 concurrent workers.\n"
     ]
    },
    {
     "name": "stdout",
     "output_type": "stream",
     "text": [
      "Fitting 5 folds for each of 24 candidates, totalling 120 fits\n",
      "[CV] C=0.01, gamma=1 .................................................\n",
      "[CV] ..................... C=0.01, gamma=1, score=0.508, total=   0.1s\n",
      "[CV] C=0.01, gamma=1 .................................................\n"
     ]
    },
    {
     "name": "stderr",
     "output_type": "stream",
     "text": [
      "[Parallel(n_jobs=1)]: Done   1 out of   1 | elapsed:    0.0s remaining:    0.0s\n",
      "[Parallel(n_jobs=1)]: Done   2 out of   2 | elapsed:    0.0s remaining:    0.0s\n"
     ]
    },
    {
     "name": "stdout",
     "output_type": "stream",
     "text": [
      "[CV] ..................... C=0.01, gamma=1, score=0.508, total=   0.0s\n",
      "[CV] C=0.01, gamma=1 .................................................\n",
      "[CV] ..................... C=0.01, gamma=1, score=0.508, total=   0.0s\n",
      "[CV] C=0.01, gamma=1 .................................................\n",
      "[CV] ..................... C=0.01, gamma=1, score=0.508, total=   0.0s\n",
      "[CV] C=0.01, gamma=1 .................................................\n",
      "[CV] ..................... C=0.01, gamma=1, score=0.508, total=   0.0s\n",
      "[CV] C=0.01, gamma=0.1 ...............................................\n",
      "[CV] ................... C=0.01, gamma=0.1, score=0.508, total=   0.0s\n",
      "[CV] C=0.01, gamma=0.1 ...............................................\n",
      "[CV] ................... C=0.01, gamma=0.1, score=0.508, total=   0.0s\n",
      "[CV] C=0.01, gamma=0.1 ...............................................\n",
      "[CV] ................... C=0.01, gamma=0.1, score=0.508, total=   0.0s\n",
      "[CV] C=0.01, gamma=0.1 ...............................................\n",
      "[CV] ................... C=0.01, gamma=0.1, score=0.508, total=   0.0s\n",
      "[CV] C=0.01, gamma=0.1 ...............................................\n",
      "[CV] ................... C=0.01, gamma=0.1, score=0.508, total=   0.0s\n",
      "[CV] C=0.01, gamma=0.01 ..............................................\n",
      "[CV] .................. C=0.01, gamma=0.01, score=0.508, total=   0.0s\n",
      "[CV] C=0.01, gamma=0.01 ..............................................\n",
      "[CV] .................. C=0.01, gamma=0.01, score=0.508, total=   0.0s\n",
      "[CV] C=0.01, gamma=0.01 ..............................................\n",
      "[CV] .................. C=0.01, gamma=0.01, score=0.508, total=   0.0s\n",
      "[CV] C=0.01, gamma=0.01 ..............................................\n",
      "[CV] .................. C=0.01, gamma=0.01, score=0.508, total=   0.0s\n",
      "[CV] C=0.01, gamma=0.01 ..............................................\n",
      "[CV] .................. C=0.01, gamma=0.01, score=0.508, total=   0.0s\n",
      "[CV] C=0.01, gamma=0.001 .............................................\n",
      "[CV] ................. C=0.01, gamma=0.001, score=0.508, total=   0.0s\n",
      "[CV] C=0.01, gamma=0.001 .............................................\n",
      "[CV] ................. C=0.01, gamma=0.001, score=0.508, total=   0.0s\n",
      "[CV] C=0.01, gamma=0.001 .............................................\n",
      "[CV] ................. C=0.01, gamma=0.001, score=0.508, total=   0.0s\n",
      "[CV] C=0.01, gamma=0.001 .............................................\n",
      "[CV] ................. C=0.01, gamma=0.001, score=0.508, total=   0.0s\n",
      "[CV] C=0.01, gamma=0.001 .............................................\n",
      "[CV] ................. C=0.01, gamma=0.001, score=0.508, total=   0.0s\n",
      "[CV] C=0.1, gamma=1 ..................................................\n",
      "[CV] ...................... C=0.1, gamma=1, score=0.508, total=   0.0s\n",
      "[CV] C=0.1, gamma=1 ..................................................\n",
      "[CV] ...................... C=0.1, gamma=1, score=0.508, total=   0.0s\n",
      "[CV] C=0.1, gamma=1 ..................................................\n",
      "[CV] ...................... C=0.1, gamma=1, score=0.508, total=   0.0s\n",
      "[CV] C=0.1, gamma=1 ..................................................\n",
      "[CV] ...................... C=0.1, gamma=1, score=0.508, total=   0.0s\n",
      "[CV] C=0.1, gamma=1 ..................................................\n",
      "[CV] ...................... C=0.1, gamma=1, score=0.508, total=   0.0s\n",
      "[CV] C=0.1, gamma=0.1 ................................................\n",
      "[CV] .................... C=0.1, gamma=0.1, score=0.508, total=   0.0s\n",
      "[CV] C=0.1, gamma=0.1 ................................................\n",
      "[CV] .................... C=0.1, gamma=0.1, score=0.508, total=   0.1s\n",
      "[CV] C=0.1, gamma=0.1 ................................................\n",
      "[CV] .................... C=0.1, gamma=0.1, score=0.508, total=   0.0s\n",
      "[CV] C=0.1, gamma=0.1 ................................................\n",
      "[CV] .................... C=0.1, gamma=0.1, score=0.508, total=   0.0s\n",
      "[CV] C=0.1, gamma=0.1 ................................................\n",
      "[CV] .................... C=0.1, gamma=0.1, score=0.508, total=   0.0s\n",
      "[CV] C=0.1, gamma=0.01 ...............................................\n",
      "[CV] ................... C=0.1, gamma=0.01, score=0.508, total=   0.0s\n",
      "[CV] C=0.1, gamma=0.01 ...............................................\n",
      "[CV] ................... C=0.1, gamma=0.01, score=0.508, total=   0.1s\n",
      "[CV] C=0.1, gamma=0.01 ...............................................\n",
      "[CV] ................... C=0.1, gamma=0.01, score=0.508, total=   0.0s\n",
      "[CV] C=0.1, gamma=0.01 ...............................................\n",
      "[CV] ................... C=0.1, gamma=0.01, score=0.508, total=   0.0s\n",
      "[CV] C=0.1, gamma=0.01 ...............................................\n",
      "[CV] ................... C=0.1, gamma=0.01, score=0.508, total=   0.0s\n",
      "[CV] C=0.1, gamma=0.001 ..............................................\n",
      "[CV] .................. C=0.1, gamma=0.001, score=0.508, total=   0.1s\n",
      "[CV] C=0.1, gamma=0.001 ..............................................\n",
      "[CV] .................. C=0.1, gamma=0.001, score=0.508, total=   0.1s\n",
      "[CV] C=0.1, gamma=0.001 ..............................................\n",
      "[CV] .................. C=0.1, gamma=0.001, score=0.508, total=   0.1s\n",
      "[CV] C=0.1, gamma=0.001 ..............................................\n",
      "[CV] .................. C=0.1, gamma=0.001, score=0.508, total=   0.1s\n",
      "[CV] C=0.1, gamma=0.001 ..............................................\n",
      "[CV] .................. C=0.1, gamma=0.001, score=0.508, total=   0.1s\n",
      "[CV] C=1, gamma=1 ....................................................\n",
      "[CV] ........................ C=1, gamma=1, score=0.508, total=   0.1s\n",
      "[CV] C=1, gamma=1 ....................................................\n",
      "[CV] ........................ C=1, gamma=1, score=0.508, total=   0.0s\n",
      "[CV] C=1, gamma=1 ....................................................\n",
      "[CV] ........................ C=1, gamma=1, score=0.508, total=   0.0s\n",
      "[CV] C=1, gamma=1 ....................................................\n",
      "[CV] ........................ C=1, gamma=1, score=0.508, total=   0.0s\n",
      "[CV] C=1, gamma=1 ....................................................\n",
      "[CV] ........................ C=1, gamma=1, score=0.508, total=   0.0s\n",
      "[CV] C=1, gamma=0.1 ..................................................\n",
      "[CV] ...................... C=1, gamma=0.1, score=0.508, total=   0.0s\n",
      "[CV] C=1, gamma=0.1 ..................................................\n",
      "[CV] ...................... C=1, gamma=0.1, score=0.508, total=   0.0s\n",
      "[CV] C=1, gamma=0.1 ..................................................\n",
      "[CV] ...................... C=1, gamma=0.1, score=0.508, total=   0.1s\n",
      "[CV] C=1, gamma=0.1 ..................................................\n",
      "[CV] ...................... C=1, gamma=0.1, score=0.508, total=   0.1s\n",
      "[CV] C=1, gamma=0.1 ..................................................\n",
      "[CV] ...................... C=1, gamma=0.1, score=0.508, total=   0.1s\n",
      "[CV] C=1, gamma=0.01 .................................................\n",
      "[CV] ..................... C=1, gamma=0.01, score=0.508, total=   0.0s\n",
      "[CV] C=1, gamma=0.01 .................................................\n",
      "[CV] ..................... C=1, gamma=0.01, score=0.508, total=   0.0s\n",
      "[CV] C=1, gamma=0.01 .................................................\n",
      "[CV] ..................... C=1, gamma=0.01, score=0.508, total=   0.0s\n",
      "[CV] C=1, gamma=0.01 .................................................\n",
      "[CV] ..................... C=1, gamma=0.01, score=0.508, total=   0.0s\n",
      "[CV] C=1, gamma=0.01 .................................................\n",
      "[CV] ..................... C=1, gamma=0.01, score=0.508, total=   0.1s\n",
      "[CV] C=1, gamma=0.001 ................................................\n",
      "[CV] .................... C=1, gamma=0.001, score=0.516, total=   0.1s\n",
      "[CV] C=1, gamma=0.001 ................................................\n",
      "[CV] .................... C=1, gamma=0.001, score=0.508, total=   0.0s\n",
      "[CV] C=1, gamma=0.001 ................................................\n",
      "[CV] .................... C=1, gamma=0.001, score=0.508, total=   0.0s\n",
      "[CV] C=1, gamma=0.001 ................................................\n",
      "[CV] .................... C=1, gamma=0.001, score=0.508, total=   0.0s\n",
      "[CV] C=1, gamma=0.001 ................................................\n",
      "[CV] .................... C=1, gamma=0.001, score=0.508, total=   0.0s\n",
      "[CV] C=10, gamma=1 ...................................................\n"
     ]
    },
    {
     "name": "stdout",
     "output_type": "stream",
     "text": [
      "[CV] ....................... C=10, gamma=1, score=0.508, total=   0.0s\n",
      "[CV] C=10, gamma=1 ...................................................\n",
      "[CV] ....................... C=10, gamma=1, score=0.508, total=   0.0s\n",
      "[CV] C=10, gamma=1 ...................................................\n",
      "[CV] ....................... C=10, gamma=1, score=0.508, total=   0.1s\n",
      "[CV] C=10, gamma=1 ...................................................\n",
      "[CV] ....................... C=10, gamma=1, score=0.508, total=   0.0s\n",
      "[CV] C=10, gamma=1 ...................................................\n",
      "[CV] ....................... C=10, gamma=1, score=0.508, total=   0.0s\n",
      "[CV] C=10, gamma=0.1 .................................................\n",
      "[CV] ..................... C=10, gamma=0.1, score=0.508, total=   0.0s\n",
      "[CV] C=10, gamma=0.1 .................................................\n",
      "[CV] ..................... C=10, gamma=0.1, score=0.508, total=   0.0s\n",
      "[CV] C=10, gamma=0.1 .................................................\n",
      "[CV] ..................... C=10, gamma=0.1, score=0.508, total=   0.0s\n",
      "[CV] C=10, gamma=0.1 .................................................\n",
      "[CV] ..................... C=10, gamma=0.1, score=0.508, total=   0.0s\n",
      "[CV] C=10, gamma=0.1 .................................................\n",
      "[CV] ..................... C=10, gamma=0.1, score=0.508, total=   0.0s\n",
      "[CV] C=10, gamma=0.01 ................................................\n",
      "[CV] .................... C=10, gamma=0.01, score=0.508, total=   0.0s\n",
      "[CV] C=10, gamma=0.01 ................................................\n",
      "[CV] .................... C=10, gamma=0.01, score=0.508, total=   0.0s\n",
      "[CV] C=10, gamma=0.01 ................................................\n",
      "[CV] .................... C=10, gamma=0.01, score=0.508, total=   0.0s\n",
      "[CV] C=10, gamma=0.01 ................................................\n",
      "[CV] .................... C=10, gamma=0.01, score=0.508, total=   0.0s\n",
      "[CV] C=10, gamma=0.01 ................................................\n",
      "[CV] .................... C=10, gamma=0.01, score=0.508, total=   0.0s\n",
      "[CV] C=10, gamma=0.001 ...............................................\n",
      "[CV] ................... C=10, gamma=0.001, score=0.508, total=   0.0s\n",
      "[CV] C=10, gamma=0.001 ...............................................\n",
      "[CV] ................... C=10, gamma=0.001, score=0.508, total=   0.1s\n",
      "[CV] C=10, gamma=0.001 ...............................................\n",
      "[CV] ................... C=10, gamma=0.001, score=0.508, total=   0.1s\n",
      "[CV] C=10, gamma=0.001 ...............................................\n",
      "[CV] ................... C=10, gamma=0.001, score=0.508, total=   0.0s\n",
      "[CV] C=10, gamma=0.001 ...............................................\n",
      "[CV] ................... C=10, gamma=0.001, score=0.508, total=   0.0s\n",
      "[CV] C=100, gamma=1 ..................................................\n",
      "[CV] ...................... C=100, gamma=1, score=0.508, total=   0.0s\n",
      "[CV] C=100, gamma=1 ..................................................\n",
      "[CV] ...................... C=100, gamma=1, score=0.508, total=   0.0s\n",
      "[CV] C=100, gamma=1 ..................................................\n",
      "[CV] ...................... C=100, gamma=1, score=0.508, total=   0.0s\n",
      "[CV] C=100, gamma=1 ..................................................\n",
      "[CV] ...................... C=100, gamma=1, score=0.508, total=   0.0s\n",
      "[CV] C=100, gamma=1 ..................................................\n",
      "[CV] ...................... C=100, gamma=1, score=0.508, total=   0.0s\n",
      "[CV] C=100, gamma=0.1 ................................................\n",
      "[CV] .................... C=100, gamma=0.1, score=0.508, total=   0.0s\n",
      "[CV] C=100, gamma=0.1 ................................................\n",
      "[CV] .................... C=100, gamma=0.1, score=0.508, total=   0.0s\n",
      "[CV] C=100, gamma=0.1 ................................................\n",
      "[CV] .................... C=100, gamma=0.1, score=0.508, total=   0.0s\n",
      "[CV] C=100, gamma=0.1 ................................................\n",
      "[CV] .................... C=100, gamma=0.1, score=0.508, total=   0.0s\n",
      "[CV] C=100, gamma=0.1 ................................................\n",
      "[CV] .................... C=100, gamma=0.1, score=0.508, total=   0.0s\n",
      "[CV] C=100, gamma=0.01 ...............................................\n",
      "[CV] ................... C=100, gamma=0.01, score=0.508, total=   0.0s\n",
      "[CV] C=100, gamma=0.01 ...............................................\n",
      "[CV] ................... C=100, gamma=0.01, score=0.508, total=   0.0s\n",
      "[CV] C=100, gamma=0.01 ...............................................\n",
      "[CV] ................... C=100, gamma=0.01, score=0.508, total=   0.0s\n",
      "[CV] C=100, gamma=0.01 ...............................................\n",
      "[CV] ................... C=100, gamma=0.01, score=0.508, total=   0.0s\n",
      "[CV] C=100, gamma=0.01 ...............................................\n",
      "[CV] ................... C=100, gamma=0.01, score=0.508, total=   0.0s\n",
      "[CV] C=100, gamma=0.001 ..............................................\n",
      "[CV] .................. C=100, gamma=0.001, score=0.508, total=   0.0s\n",
      "[CV] C=100, gamma=0.001 ..............................................\n",
      "[CV] .................. C=100, gamma=0.001, score=0.508, total=   0.0s\n",
      "[CV] C=100, gamma=0.001 ..............................................\n",
      "[CV] .................. C=100, gamma=0.001, score=0.508, total=   0.0s\n",
      "[CV] C=100, gamma=0.001 ..............................................\n",
      "[CV] .................. C=100, gamma=0.001, score=0.508, total=   0.0s\n",
      "[CV] C=100, gamma=0.001 ..............................................\n",
      "[CV] .................. C=100, gamma=0.001, score=0.508, total=   0.0s\n",
      "[CV] C=1000, gamma=1 .................................................\n",
      "[CV] ..................... C=1000, gamma=1, score=0.508, total=   0.0s\n",
      "[CV] C=1000, gamma=1 .................................................\n",
      "[CV] ..................... C=1000, gamma=1, score=0.508, total=   0.0s\n",
      "[CV] C=1000, gamma=1 .................................................\n",
      "[CV] ..................... C=1000, gamma=1, score=0.508, total=   0.0s\n",
      "[CV] C=1000, gamma=1 .................................................\n",
      "[CV] ..................... C=1000, gamma=1, score=0.508, total=   0.0s\n",
      "[CV] C=1000, gamma=1 .................................................\n",
      "[CV] ..................... C=1000, gamma=1, score=0.508, total=   0.0s\n",
      "[CV] C=1000, gamma=0.1 ...............................................\n",
      "[CV] ................... C=1000, gamma=0.1, score=0.508, total=   0.1s\n",
      "[CV] C=1000, gamma=0.1 ...............................................\n",
      "[CV] ................... C=1000, gamma=0.1, score=0.508, total=   0.0s\n",
      "[CV] C=1000, gamma=0.1 ...............................................\n",
      "[CV] ................... C=1000, gamma=0.1, score=0.508, total=   0.0s\n",
      "[CV] C=1000, gamma=0.1 ...............................................\n",
      "[CV] ................... C=1000, gamma=0.1, score=0.508, total=   0.0s\n",
      "[CV] C=1000, gamma=0.1 ...............................................\n",
      "[CV] ................... C=1000, gamma=0.1, score=0.508, total=   0.0s\n",
      "[CV] C=1000, gamma=0.01 ..............................................\n",
      "[CV] .................. C=1000, gamma=0.01, score=0.508, total=   0.0s\n",
      "[CV] C=1000, gamma=0.01 ..............................................\n",
      "[CV] .................. C=1000, gamma=0.01, score=0.508, total=   0.0s\n",
      "[CV] C=1000, gamma=0.01 ..............................................\n",
      "[CV] .................. C=1000, gamma=0.01, score=0.508, total=   0.0s\n",
      "[CV] C=1000, gamma=0.01 ..............................................\n",
      "[CV] .................. C=1000, gamma=0.01, score=0.508, total=   0.0s\n",
      "[CV] C=1000, gamma=0.01 ..............................................\n",
      "[CV] .................. C=1000, gamma=0.01, score=0.508, total=   0.0s\n",
      "[CV] C=1000, gamma=0.001 .............................................\n",
      "[CV] ................. C=1000, gamma=0.001, score=0.508, total=   0.0s\n",
      "[CV] C=1000, gamma=0.001 .............................................\n",
      "[CV] ................. C=1000, gamma=0.001, score=0.508, total=   0.0s\n",
      "[CV] C=1000, gamma=0.001 .............................................\n",
      "[CV] ................. C=1000, gamma=0.001, score=0.508, total=   0.0s\n",
      "[CV] C=1000, gamma=0.001 .............................................\n",
      "[CV] ................. C=1000, gamma=0.001, score=0.508, total=   0.0s\n",
      "[CV] C=1000, gamma=0.001 .............................................\n",
      "[CV] ................. C=1000, gamma=0.001, score=0.508, total=   0.0s\n"
     ]
    },
    {
     "name": "stderr",
     "output_type": "stream",
     "text": [
      "[Parallel(n_jobs=1)]: Done 120 out of 120 | elapsed:    4.0s finished\n"
     ]
    }
   ],
   "source": [
    "from sklearn.svm import SVC\n",
    "from sklearn.model_selection import GridSearchCV\n",
    "model5=SVC()\n",
    "param_grid1={'C':[00.01,0.1,1,10,100,1000],'gamma':[1,0.1,0.01,0.001]}\n",
    "grid1=GridSearchCV(SVC(),param_grid1,verbose=3)\n",
    "grid1.fit(x_train2,y_train2)\n",
    "\n",
    "grid_predict2=grid1.predict(x_test2)\n"
   ]
  },
  {
   "cell_type": "code",
   "execution_count": 39,
   "metadata": {},
   "outputs": [
    {
     "name": "stdout",
     "output_type": "stream",
     "text": [
      "{'Besni': {'precision': 1.0, 'recall': 0.48507462686567165, 'f1-score': 0.6532663316582915, 'support': 268}, 'Kecimen': {'precision': 0.014285714285714285, 'recall': 1.0, 'f1-score': 0.028169014084507043, 'support': 2}, 'accuracy': 0.4888888888888889, 'macro avg': {'precision': 0.5071428571428571, 'recall': 0.7425373134328358, 'f1-score': 0.34071767287139926, 'support': 270}, 'weighted avg': {'precision': 0.9926984126984126, 'recall': 0.4888888888888889, 'f1-score': 0.648635981157745, 'support': 270}}\n"
     ]
    },
    {
     "data": {
      "text/plain": [
       "array([[130, 138],\n",
       "       [  0,   2]], dtype=int64)"
      ]
     },
     "execution_count": 39,
     "metadata": {},
     "output_type": "execute_result"
    }
   ],
   "source": [
    "C5=confusion_matrix(grid_predict2,y_test2)\n",
    "R5=classification_report(grid_predict2,y_test2,output_dict=True)\n",
    "#Svm for non scaled features gives worst accuracy till now\n",
    "print(R5)\n",
    "C5"
   ]
  },
  {
   "cell_type": "code",
   "execution_count": null,
   "metadata": {},
   "outputs": [],
   "source": []
  },
  {
   "cell_type": "code",
   "execution_count": 40,
   "metadata": {},
   "outputs": [
    {
     "name": "stdout",
     "output_type": "stream",
     "text": [
      "Fitting 5 folds for each of 24 candidates, totalling 120 fits\n",
      "[CV] C=0.01, gamma=1 .................................................\n",
      "[CV] ..................... C=0.01, gamma=1, score=0.508, total=   0.0s\n",
      "[CV] C=0.01, gamma=1 .................................................\n",
      "[CV] ..................... C=0.01, gamma=1, score=0.508, total=   0.0s\n",
      "[CV] C=0.01, gamma=1 .................................................\n",
      "[CV] ..................... C=0.01, gamma=1, score=0.508, total=   0.0s\n",
      "[CV] C=0.01, gamma=1 .................................................\n",
      "[CV] ..................... C=0.01, gamma=1, score=0.508, total=   0.0s\n",
      "[CV] C=0.01, gamma=1 .................................................\n",
      "[CV] ..................... C=0.01, gamma=1, score=0.508, total=   0.0s\n",
      "[CV] C=0.01, gamma=0.1 ...............................................\n",
      "[CV] ................... C=0.01, gamma=0.1, score=0.865, total=   0.0s\n",
      "[CV] C=0.01, gamma=0.1 ...............................................\n",
      "[CV] ................... C=0.01, gamma=0.1, score=0.873, total=   0.0s\n",
      "[CV] C=0.01, gamma=0.1 ...............................................\n",
      "[CV] ................... C=0.01, gamma=0.1, score=0.833, total=   0.0s\n",
      "[CV] C=0.01, gamma=0.1 ...............................................\n"
     ]
    },
    {
     "name": "stderr",
     "output_type": "stream",
     "text": [
      "[Parallel(n_jobs=1)]: Using backend SequentialBackend with 1 concurrent workers.\n",
      "[Parallel(n_jobs=1)]: Done   1 out of   1 | elapsed:    0.0s remaining:    0.0s\n",
      "[Parallel(n_jobs=1)]: Done   2 out of   2 | elapsed:    0.0s remaining:    0.0s\n"
     ]
    },
    {
     "name": "stdout",
     "output_type": "stream",
     "text": [
      "[CV] ................... C=0.01, gamma=0.1, score=0.802, total=   0.0s\n",
      "[CV] C=0.01, gamma=0.1 ...............................................\n",
      "[CV] ................... C=0.01, gamma=0.1, score=0.849, total=   0.0s\n",
      "[CV] C=0.01, gamma=0.01 ..............................................\n",
      "[CV] .................. C=0.01, gamma=0.01, score=0.508, total=   0.0s\n",
      "[CV] C=0.01, gamma=0.01 ..............................................\n",
      "[CV] .................. C=0.01, gamma=0.01, score=0.508, total=   0.0s\n",
      "[CV] C=0.01, gamma=0.01 ..............................................\n",
      "[CV] .................. C=0.01, gamma=0.01, score=0.508, total=   0.0s\n",
      "[CV] C=0.01, gamma=0.01 ..............................................\n",
      "[CV] .................. C=0.01, gamma=0.01, score=0.508, total=   0.0s\n",
      "[CV] C=0.01, gamma=0.01 ..............................................\n",
      "[CV] .................. C=0.01, gamma=0.01, score=0.508, total=   0.0s\n",
      "[CV] C=0.01, gamma=0.001 .............................................\n",
      "[CV] ................. C=0.01, gamma=0.001, score=0.508, total=   0.0s\n",
      "[CV] C=0.01, gamma=0.001 .............................................\n",
      "[CV] ................. C=0.01, gamma=0.001, score=0.508, total=   0.0s\n",
      "[CV] C=0.01, gamma=0.001 .............................................\n",
      "[CV] ................. C=0.01, gamma=0.001, score=0.508, total=   0.0s\n",
      "[CV] C=0.01, gamma=0.001 .............................................\n",
      "[CV] ................. C=0.01, gamma=0.001, score=0.508, total=   0.0s\n",
      "[CV] C=0.01, gamma=0.001 .............................................\n",
      "[CV] ................. C=0.01, gamma=0.001, score=0.508, total=   0.0s\n",
      "[CV] C=0.1, gamma=1 ..................................................\n",
      "[CV] ...................... C=0.1, gamma=1, score=0.849, total=   0.0s\n",
      "[CV] C=0.1, gamma=1 ..................................................\n",
      "[CV] ...................... C=0.1, gamma=1, score=0.889, total=   0.0s\n",
      "[CV] C=0.1, gamma=1 ..................................................\n",
      "[CV] ...................... C=0.1, gamma=1, score=0.849, total=   0.0s\n",
      "[CV] C=0.1, gamma=1 ..................................................\n",
      "[CV] ...................... C=0.1, gamma=1, score=0.841, total=   0.0s\n",
      "[CV] C=0.1, gamma=1 ..................................................\n",
      "[CV] ...................... C=0.1, gamma=1, score=0.889, total=   0.0s\n",
      "[CV] C=0.1, gamma=0.1 ................................................\n",
      "[CV] .................... C=0.1, gamma=0.1, score=0.857, total=   0.0s\n",
      "[CV] C=0.1, gamma=0.1 ................................................\n",
      "[CV] .................... C=0.1, gamma=0.1, score=0.889, total=   0.0s\n",
      "[CV] C=0.1, gamma=0.1 ................................................\n",
      "[CV] .................... C=0.1, gamma=0.1, score=0.833, total=   0.0s\n",
      "[CV] C=0.1, gamma=0.1 ................................................\n",
      "[CV] .................... C=0.1, gamma=0.1, score=0.841, total=   0.0s\n",
      "[CV] C=0.1, gamma=0.1 ................................................\n",
      "[CV] .................... C=0.1, gamma=0.1, score=0.873, total=   0.0s\n",
      "[CV] C=0.1, gamma=0.01 ...............................................\n",
      "[CV] ................... C=0.1, gamma=0.01, score=0.873, total=   0.0s\n",
      "[CV] C=0.1, gamma=0.01 ...............................................\n",
      "[CV] ................... C=0.1, gamma=0.01, score=0.857, total=   0.0s\n",
      "[CV] C=0.1, gamma=0.01 ...............................................\n",
      "[CV] ................... C=0.1, gamma=0.01, score=0.833, total=   0.0s\n",
      "[CV] C=0.1, gamma=0.01 ...............................................\n",
      "[CV] ................... C=0.1, gamma=0.01, score=0.778, total=   0.0s\n",
      "[CV] C=0.1, gamma=0.01 ...............................................\n",
      "[CV] ................... C=0.1, gamma=0.01, score=0.857, total=   0.0s\n",
      "[CV] C=0.1, gamma=0.001 ..............................................\n",
      "[CV] .................. C=0.1, gamma=0.001, score=0.643, total=   0.0s\n",
      "[CV] C=0.1, gamma=0.001 ..............................................\n",
      "[CV] .................. C=0.1, gamma=0.001, score=0.651, total=   0.0s\n",
      "[CV] C=0.1, gamma=0.001 ..............................................\n",
      "[CV] .................. C=0.1, gamma=0.001, score=0.651, total=   0.0s\n",
      "[CV] C=0.1, gamma=0.001 ..............................................\n",
      "[CV] .................. C=0.1, gamma=0.001, score=0.603, total=   0.0s\n",
      "[CV] C=0.1, gamma=0.001 ..............................................\n",
      "[CV] .................. C=0.1, gamma=0.001, score=0.619, total=   0.0s\n",
      "[CV] C=1, gamma=1 ....................................................\n",
      "[CV] ........................ C=1, gamma=1, score=0.849, total=   0.0s\n",
      "[CV] C=1, gamma=1 ....................................................\n",
      "[CV] ........................ C=1, gamma=1, score=0.873, total=   0.0s\n",
      "[CV] C=1, gamma=1 ....................................................\n",
      "[CV] ........................ C=1, gamma=1, score=0.849, total=   0.0s\n",
      "[CV] C=1, gamma=1 ....................................................\n",
      "[CV] ........................ C=1, gamma=1, score=0.833, total=   0.0s\n",
      "[CV] C=1, gamma=1 ....................................................\n",
      "[CV] ........................ C=1, gamma=1, score=0.889, total=   0.0s\n",
      "[CV] C=1, gamma=0.1 ..................................................\n",
      "[CV] ...................... C=1, gamma=0.1, score=0.841, total=   0.0s\n",
      "[CV] C=1, gamma=0.1 ..................................................\n",
      "[CV] ...................... C=1, gamma=0.1, score=0.897, total=   0.0s\n",
      "[CV] C=1, gamma=0.1 ..................................................\n",
      "[CV] ...................... C=1, gamma=0.1, score=0.825, total=   0.0s\n",
      "[CV] C=1, gamma=0.1 ..................................................\n",
      "[CV] ...................... C=1, gamma=0.1, score=0.833, total=   0.0s\n",
      "[CV] C=1, gamma=0.1 ..................................................\n",
      "[CV] ...................... C=1, gamma=0.1, score=0.881, total=   0.0s\n",
      "[CV] C=1, gamma=0.01 .................................................\n",
      "[CV] ..................... C=1, gamma=0.01, score=0.865, total=   0.0s\n",
      "[CV] C=1, gamma=0.01 .................................................\n",
      "[CV] ..................... C=1, gamma=0.01, score=0.889, total=   0.0s\n",
      "[CV] C=1, gamma=0.01 .................................................\n",
      "[CV] ..................... C=1, gamma=0.01, score=0.849, total=   0.0s\n",
      "[CV] C=1, gamma=0.01 .................................................\n",
      "[CV] ..................... C=1, gamma=0.01, score=0.841, total=   0.0s\n",
      "[CV] C=1, gamma=0.01 .................................................\n",
      "[CV] ..................... C=1, gamma=0.01, score=0.881, total=   0.0s\n",
      "[CV] C=1, gamma=0.001 ................................................\n",
      "[CV] .................... C=1, gamma=0.001, score=0.873, total=   0.0s\n",
      "[CV] C=1, gamma=0.001 ................................................\n",
      "[CV] .................... C=1, gamma=0.001, score=0.857, total=   0.0s\n",
      "[CV] C=1, gamma=0.001 ................................................\n",
      "[CV] .................... C=1, gamma=0.001, score=0.833, total=   0.0s\n",
      "[CV] C=1, gamma=0.001 ................................................\n",
      "[CV] .................... C=1, gamma=0.001, score=0.778, total=   0.0s\n",
      "[CV] C=1, gamma=0.001 ................................................\n",
      "[CV] .................... C=1, gamma=0.001, score=0.857, total=   0.0s\n",
      "[CV] C=10, gamma=1 ...................................................\n",
      "[CV] ....................... C=10, gamma=1, score=0.857, total=   0.0s\n",
      "[CV] C=10, gamma=1 ...................................................\n",
      "[CV] ....................... C=10, gamma=1, score=0.857, total=   0.0s\n",
      "[CV] C=10, gamma=1 ...................................................\n",
      "[CV] ....................... C=10, gamma=1, score=0.857, total=   0.0s\n",
      "[CV] C=10, gamma=1 ...................................................\n",
      "[CV] ....................... C=10, gamma=1, score=0.849, total=   0.0s\n",
      "[CV] C=10, gamma=1 ...................................................\n",
      "[CV] ....................... C=10, gamma=1, score=0.897, total=   0.0s\n",
      "[CV] C=10, gamma=0.1 .................................................\n",
      "[CV] ..................... C=10, gamma=0.1, score=0.849, total=   0.0s\n",
      "[CV] C=10, gamma=0.1 .................................................\n",
      "[CV] ..................... C=10, gamma=0.1, score=0.889, total=   0.0s\n",
      "[CV] C=10, gamma=0.1 .................................................\n",
      "[CV] ..................... C=10, gamma=0.1, score=0.810, total=   0.0s\n",
      "[CV] C=10, gamma=0.1 .................................................\n",
      "[CV] ..................... C=10, gamma=0.1, score=0.825, total=   0.0s\n",
      "[CV] C=10, gamma=0.1 .................................................\n",
      "[CV] ..................... C=10, gamma=0.1, score=0.873, total=   0.0s\n",
      "[CV] C=10, gamma=0.01 ................................................\n",
      "[CV] .................... C=10, gamma=0.01, score=0.857, total=   0.0s\n",
      "[CV] C=10, gamma=0.01 ................................................\n",
      "[CV] .................... C=10, gamma=0.01, score=0.889, total=   0.0s\n",
      "[CV] C=10, gamma=0.01 ................................................\n",
      "[CV] .................... C=10, gamma=0.01, score=0.833, total=   0.0s\n",
      "[CV] C=10, gamma=0.01 ................................................\n",
      "[CV] .................... C=10, gamma=0.01, score=0.841, total=   0.0s\n",
      "[CV] C=10, gamma=0.01 ................................................\n",
      "[CV] .................... C=10, gamma=0.01, score=0.881, total=   0.0s\n",
      "[CV] C=10, gamma=0.001 ...............................................\n",
      "[CV] ................... C=10, gamma=0.001, score=0.865, total=   0.0s\n",
      "[CV] C=10, gamma=0.001 ...............................................\n",
      "[CV] ................... C=10, gamma=0.001, score=0.889, total=   0.0s\n",
      "[CV] C=10, gamma=0.001 ...............................................\n",
      "[CV] ................... C=10, gamma=0.001, score=0.857, total=   0.0s\n",
      "[CV] C=10, gamma=0.001 ...............................................\n",
      "[CV] ................... C=10, gamma=0.001, score=0.849, total=   0.0s\n",
      "[CV] C=10, gamma=0.001 ...............................................\n",
      "[CV] ................... C=10, gamma=0.001, score=0.881, total=   0.0s\n",
      "[CV] C=100, gamma=1 ..................................................\n",
      "[CV] ...................... C=100, gamma=1, score=0.849, total=   0.0s\n",
      "[CV] C=100, gamma=1 ..................................................\n",
      "[CV] ...................... C=100, gamma=1, score=0.849, total=   0.0s\n",
      "[CV] C=100, gamma=1 ..................................................\n",
      "[CV] ...................... C=100, gamma=1, score=0.825, total=   0.0s\n",
      "[CV] C=100, gamma=1 ..................................................\n"
     ]
    },
    {
     "name": "stdout",
     "output_type": "stream",
     "text": [
      "[CV] ...................... C=100, gamma=1, score=0.825, total=   0.1s\n",
      "[CV] C=100, gamma=1 ..................................................\n",
      "[CV] ...................... C=100, gamma=1, score=0.873, total=   0.1s\n",
      "[CV] C=100, gamma=0.1 ................................................\n",
      "[CV] .................... C=100, gamma=0.1, score=0.849, total=   0.0s\n",
      "[CV] C=100, gamma=0.1 ................................................\n",
      "[CV] .................... C=100, gamma=0.1, score=0.881, total=   0.0s\n",
      "[CV] C=100, gamma=0.1 ................................................\n",
      "[CV] .................... C=100, gamma=0.1, score=0.810, total=   0.0s\n",
      "[CV] C=100, gamma=0.1 ................................................\n",
      "[CV] .................... C=100, gamma=0.1, score=0.833, total=   0.0s\n",
      "[CV] C=100, gamma=0.1 ................................................\n",
      "[CV] .................... C=100, gamma=0.1, score=0.873, total=   0.0s\n",
      "[CV] C=100, gamma=0.01 ...............................................\n",
      "[CV] ................... C=100, gamma=0.01, score=0.841, total=   0.0s\n",
      "[CV] C=100, gamma=0.01 ...............................................\n",
      "[CV] ................... C=100, gamma=0.01, score=0.897, total=   0.0s\n",
      "[CV] C=100, gamma=0.01 ...............................................\n",
      "[CV] ................... C=100, gamma=0.01, score=0.825, total=   0.0s\n",
      "[CV] C=100, gamma=0.01 ...............................................\n",
      "[CV] ................... C=100, gamma=0.01, score=0.833, total=   0.0s\n",
      "[CV] C=100, gamma=0.01 ...............................................\n",
      "[CV] ................... C=100, gamma=0.01, score=0.881, total=   0.0s\n",
      "[CV] C=100, gamma=0.001 ..............................................\n",
      "[CV] .................. C=100, gamma=0.001, score=0.857, total=   0.0s\n",
      "[CV] C=100, gamma=0.001 ..............................................\n",
      "[CV] .................. C=100, gamma=0.001, score=0.889, total=   0.0s\n",
      "[CV] C=100, gamma=0.001 ..............................................\n",
      "[CV] .................. C=100, gamma=0.001, score=0.857, total=   0.0s\n",
      "[CV] C=100, gamma=0.001 ..............................................\n",
      "[CV] .................. C=100, gamma=0.001, score=0.841, total=   0.0s\n",
      "[CV] C=100, gamma=0.001 ..............................................\n",
      "[CV] .................. C=100, gamma=0.001, score=0.881, total=   0.0s\n",
      "[CV] C=1000, gamma=1 .................................................\n",
      "[CV] ..................... C=1000, gamma=1, score=0.833, total=   0.1s\n",
      "[CV] C=1000, gamma=1 .................................................\n",
      "[CV] ..................... C=1000, gamma=1, score=0.825, total=   0.1s\n",
      "[CV] C=1000, gamma=1 .................................................\n",
      "[CV] ..................... C=1000, gamma=1, score=0.825, total=   0.1s\n",
      "[CV] C=1000, gamma=1 .................................................\n",
      "[CV] ..................... C=1000, gamma=1, score=0.817, total=   0.1s\n",
      "[CV] C=1000, gamma=1 .................................................\n",
      "[CV] ..................... C=1000, gamma=1, score=0.857, total=   0.0s\n",
      "[CV] C=1000, gamma=0.1 ...............................................\n",
      "[CV] ................... C=1000, gamma=0.1, score=0.841, total=   0.1s\n",
      "[CV] C=1000, gamma=0.1 ...............................................\n",
      "[CV] ................... C=1000, gamma=0.1, score=0.897, total=   0.1s\n",
      "[CV] C=1000, gamma=0.1 ...............................................\n",
      "[CV] ................... C=1000, gamma=0.1, score=0.802, total=   0.0s\n",
      "[CV] C=1000, gamma=0.1 ...............................................\n",
      "[CV] ................... C=1000, gamma=0.1, score=0.825, total=   0.1s\n",
      "[CV] C=1000, gamma=0.1 ...............................................\n",
      "[CV] ................... C=1000, gamma=0.1, score=0.873, total=   0.0s\n",
      "[CV] C=1000, gamma=0.01 ..............................................\n",
      "[CV] .................. C=1000, gamma=0.01, score=0.841, total=   0.0s\n",
      "[CV] C=1000, gamma=0.01 ..............................................\n",
      "[CV] .................. C=1000, gamma=0.01, score=0.881, total=   0.0s\n",
      "[CV] C=1000, gamma=0.01 ..............................................\n",
      "[CV] .................. C=1000, gamma=0.01, score=0.825, total=   0.0s\n",
      "[CV] C=1000, gamma=0.01 ..............................................\n",
      "[CV] .................. C=1000, gamma=0.01, score=0.841, total=   0.0s\n",
      "[CV] C=1000, gamma=0.01 ..............................................\n",
      "[CV] .................. C=1000, gamma=0.01, score=0.881, total=   0.0s\n",
      "[CV] C=1000, gamma=0.001 .............................................\n",
      "[CV] ................. C=1000, gamma=0.001, score=0.849, total=   0.0s\n",
      "[CV] C=1000, gamma=0.001 .............................................\n",
      "[CV] ................. C=1000, gamma=0.001, score=0.897, total=   0.0s\n",
      "[CV] C=1000, gamma=0.001 .............................................\n",
      "[CV] ................. C=1000, gamma=0.001, score=0.857, total=   0.0s\n",
      "[CV] C=1000, gamma=0.001 .............................................\n",
      "[CV] ................. C=1000, gamma=0.001, score=0.841, total=   0.0s\n",
      "[CV] C=1000, gamma=0.001 .............................................\n",
      "[CV] ................. C=1000, gamma=0.001, score=0.881, total=   0.0s\n"
     ]
    },
    {
     "name": "stderr",
     "output_type": "stream",
     "text": [
      "[Parallel(n_jobs=1)]: Done 120 out of 120 | elapsed:    2.3s finished\n"
     ]
    }
   ],
   "source": [
    "from sklearn.svm import SVC\n",
    "from sklearn.model_selection import GridSearchCV\n",
    "model5=SVC()\n",
    "param_grid2={'C':[00.01,0.1,1,10,100,1000],'gamma':[1,0.1,0.01,0.001]}\n",
    "grid2=GridSearchCV(SVC(),param_grid2,verbose=3)\n",
    "grid2.fit(x_train3,y_train3)\n",
    "\n",
    "grid_predict3=grid2.predict(x_test3)\n"
   ]
  },
  {
   "cell_type": "code",
   "execution_count": 41,
   "metadata": {},
   "outputs": [],
   "source": [
    "C6=confusion_matrix(grid_predict3,y_test3)\n",
    "R6=classification_report(grid_predict3,y_test3,output_dict=True)\n"
   ]
  },
  {
   "cell_type": "code",
   "execution_count": 42,
   "metadata": {},
   "outputs": [
    {
     "name": "stdout",
     "output_type": "stream",
     "text": [
      "{'Besni': {'precision': 0.8076923076923077, 'recall': 0.9210526315789473, 'f1-score': 0.860655737704918, 'support': 114}, 'Kecimen': {'precision': 0.9357142857142857, 'recall': 0.8397435897435898, 'f1-score': 0.8851351351351352, 'support': 156}, 'accuracy': 0.8740740740740741, 'macro avg': {'precision': 0.8717032967032967, 'recall': 0.8803981106612686, 'f1-score': 0.8728954364200265, 'support': 270}, 'weighted avg': {'precision': 0.8816605616605616, 'recall': 0.8740740740740741, 'f1-score': 0.874799389553488, 'support': 270}}\n"
     ]
    }
   ],
   "source": [
    "print(R6)\n",
    "# SVM for principal components of features shows better accuracy than SVM for non scaled features\n"
   ]
  },
  {
   "cell_type": "code",
   "execution_count": 43,
   "metadata": {},
   "outputs": [
    {
     "name": "stdout",
     "output_type": "stream",
     "text": [
      "[[105   9]\n",
      " [ 25 131]]\n"
     ]
    }
   ],
   "source": [
    "print(C6)"
   ]
  },
  {
   "cell_type": "code",
   "execution_count": null,
   "metadata": {},
   "outputs": [],
   "source": []
  },
  {
   "cell_type": "code",
   "execution_count": 44,
   "metadata": {},
   "outputs": [],
   "source": [
    "#Training KNN model for classfication"
   ]
  },
  {
   "cell_type": "code",
   "execution_count": 45,
   "metadata": {},
   "outputs": [],
   "source": [
    "#KNN model trained for scaled features\n",
    "from sklearn.neighbors import KNeighborsClassifier\n"
   ]
  },
  {
   "cell_type": "code",
   "execution_count": 46,
   "metadata": {},
   "outputs": [],
   "source": [
    "error_rate=[]\n",
    "for k in range(1,60):\n",
    "    knn1=KNeighborsClassifier(n_neighbors=k)\n",
    "    knn1.fit(x_train1,y_train1)          \n",
    "    pred_k1=knn1.predict(x_test1)\n",
    "    error_rate.append(np.mean(pred_k1!=y_test1))"
   ]
  },
  {
   "cell_type": "code",
   "execution_count": 47,
   "metadata": {},
   "outputs": [
    {
     "data": {
      "text/plain": [
       "Text(0.5, 1.0, 'Error rate vs K')"
      ]
     },
     "execution_count": 47,
     "metadata": {},
     "output_type": "execute_result"
    },
    {
     "data": {
      "image/png": "[encoded data removed]",
      "text/plain": [
       "<Figure size 720x432 with 1 Axes>"
      ]
     },
     "metadata": {
      "needs_background": "light"
     },
     "output_type": "display_data"
    }
   ],
   "source": [
    "plt.figure(figsize=(10,6))\n",
    "plt.plot(range(1,60),error_rate,color='blue',linestyle='dashed',marker='o',markerfacecolor='red',markersize=10)\n",
    "plt.xlabel(\"K\")\n",
    "plt.ylabel(\"Error_Rate\")\n",
    "plt.title(\"Error rate vs K\")"
   ]
  },
  {
   "cell_type": "code",
   "execution_count": 48,
   "metadata": {},
   "outputs": [],
   "source": [
    "# k=24 is best choice for least error rate values "
   ]
  },
  {
   "cell_type": "code",
   "execution_count": 49,
   "metadata": {},
   "outputs": [
    {
     "name": "stdout",
     "output_type": "stream",
     "text": [
      "{'Besni': {'precision': 0.7923076923076923, 'recall': 0.9279279279279279, 'f1-score': 0.8547717842323651, 'support': 111}, 'Kecimen': {'precision': 0.9428571428571428, 'recall': 0.8301886792452831, 'f1-score': 0.8829431438127091, 'support': 159}, 'accuracy': 0.8703703703703703, 'macro avg': {'precision': 0.8675824175824176, 'recall': 0.8790583035866055, 'f1-score': 0.868857464022537, 'support': 270}, 'weighted avg': {'precision': 0.8809645909645909, 'recall': 0.8703703703703703, 'f1-score': 0.8713615848741233, 'support': 270}}\n"
     ]
    },
    {
     "data": {
      "text/plain": [
       "array([[103,   8],\n",
       "       [ 27, 132]], dtype=int64)"
      ]
     },
     "execution_count": 49,
     "metadata": {},
     "output_type": "execute_result"
    }
   ],
   "source": [
    "knn1=KNeighborsClassifier(n_neighbors=24)\n",
    "knn1.fit(x_train1,y_train1)\n",
    "pred_knn1=knn1.predict(x_test1)\n",
    "C7=confusion_matrix(pred_knn1,y_test1)\n",
    "R7=classification_report(pred_knn1,y_test1,output_dict=True)\n",
    "print(R7)\n",
    "C7"
   ]
  },
  {
   "cell_type": "code",
   "execution_count": null,
   "metadata": {},
   "outputs": [],
   "source": []
  },
  {
   "cell_type": "code",
   "execution_count": 50,
   "metadata": {},
   "outputs": [],
   "source": [
    "#KNN model trained without scaled features"
   ]
  },
  {
   "cell_type": "code",
   "execution_count": 51,
   "metadata": {},
   "outputs": [],
   "source": [
    "error_rate1=[]\n",
    "for k in range(1,60):\n",
    "    knn2=KNeighborsClassifier(n_neighbors=k)\n",
    "    knn2.fit(x_train2,y_train2)          \n",
    "    pred_k2=knn2.predict(x_test2)\n",
    "    error_rate1.append(np.mean(pred_k2!=y_test2))"
   ]
  },
  {
   "cell_type": "code",
   "execution_count": 52,
   "metadata": {},
   "outputs": [
    {
     "data": {
      "text/plain": [
       "Text(0.5, 1.0, 'Error rate vs K')"
      ]
     },
     "execution_count": 52,
     "metadata": {},
     "output_type": "execute_result"
    },
    {
     "data": {
      "image/png": "[encoded data removed]",
      "text/plain": [
       "<Figure size 720x432 with 1 Axes>"
      ]
     },
     "metadata": {
      "needs_background": "light"
     },
     "output_type": "display_data"
    }
   ],
   "source": [
    "plt.figure(figsize=(10,6))\n",
    "plt.plot(range(1,60),error_rate1,color='blue',linestyle='dashed',marker='o',markerfacecolor='red',markersize=10)\n",
    "plt.xlabel(\"K\")\n",
    "plt.ylabel(\"Error_Rate\")\n",
    "plt.title(\"Error rate vs K\")"
   ]
  },
  {
   "cell_type": "code",
   "execution_count": 53,
   "metadata": {},
   "outputs": [],
   "source": [
    "#Best k value is 5"
   ]
  },
  {
   "cell_type": "code",
   "execution_count": 54,
   "metadata": {},
   "outputs": [
    {
     "name": "stdout",
     "output_type": "stream",
     "text": [
      "{'Besni': {'precision': 0.7692307692307693, 'recall': 0.8849557522123894, 'f1-score': 0.823045267489712, 'support': 113}, 'Kecimen': {'precision': 0.9071428571428571, 'recall': 0.8089171974522293, 'f1-score': 0.8552188552188553, 'support': 157}, 'accuracy': 0.8407407407407408, 'macro avg': {'precision': 0.8381868131868132, 'recall': 0.8469364748323094, 'f1-score': 0.8391320613542836, 'support': 270}, 'weighted avg': {'precision': 0.8494240944240945, 'recall': 0.8407407407407408, 'f1-score': 0.8417536129470286, 'support': 270}}\n"
     ]
    },
    {
     "data": {
      "text/plain": [
       "array([[100,  13],\n",
       "       [ 30, 127]], dtype=int64)"
      ]
     },
     "execution_count": 54,
     "metadata": {},
     "output_type": "execute_result"
    }
   ],
   "source": [
    "knn2=KNeighborsClassifier(n_neighbors=5)\n",
    "knn2.fit(x_train2,y_train2)\n",
    "pred_knn2=knn2.predict(x_test2)\n",
    "C8=confusion_matrix(pred_knn2,y_test2)\n",
    "R8=classification_report(pred_knn2,y_test2,output_dict=True)\n",
    "print(R8)\n",
    "C8"
   ]
  },
  {
   "cell_type": "code",
   "execution_count": null,
   "metadata": {},
   "outputs": [],
   "source": []
  },
  {
   "cell_type": "code",
   "execution_count": 55,
   "metadata": {},
   "outputs": [],
   "source": [
    "#training KNN model on principal components of scaled features "
   ]
  },
  {
   "cell_type": "code",
   "execution_count": 56,
   "metadata": {},
   "outputs": [],
   "source": [
    "error_rate2=[]\n",
    "for k in range(1,60):\n",
    "    knn3=KNeighborsClassifier(n_neighbors=k)\n",
    "    knn3.fit(x_train3,y_train3)          \n",
    "    pred_k3=knn3.predict(x_test3)\n",
    "    error_rate2.append(np.mean(pred_k3!=y_test3))"
   ]
  },
  {
   "cell_type": "code",
   "execution_count": 57,
   "metadata": {},
   "outputs": [
    {
     "data": {
      "text/plain": [
       "Text(0.5, 1.0, 'Error rate vs K')"
      ]
     },
     "execution_count": 57,
     "metadata": {},
     "output_type": "execute_result"
    },
    {
     "data": {
      "image/png": "[encoded data removed]",
      "text/plain": [
       "<Figure size 720x432 with 1 Axes>"
      ]
     },
     "metadata": {
      "needs_background": "light"
     },
     "output_type": "display_data"
    }
   ],
   "source": [
    "plt.figure(figsize=(10,6))\n",
    "plt.plot(range(1,60),error_rate2,color='blue',linestyle='dashed',marker='o',markerfacecolor='red',markersize=10)\n",
    "plt.xlabel(\"K\")\n",
    "plt.ylabel(\"Error_Rate\")\n",
    "plt.title(\"Error rate vs K\")"
   ]
  },
  {
   "cell_type": "code",
   "execution_count": 58,
   "metadata": {},
   "outputs": [],
   "source": [
    "#k=20 is best value"
   ]
  },
  {
   "cell_type": "code",
   "execution_count": 59,
   "metadata": {},
   "outputs": [
    {
     "name": "stdout",
     "output_type": "stream",
     "text": [
      "{'Besni': {'precision': 0.8, 'recall': 0.9043478260869565, 'f1-score': 0.8489795918367348, 'support': 115}, 'Kecimen': {'precision': 0.9214285714285714, 'recall': 0.832258064516129, 'f1-score': 0.8745762711864405, 'support': 155}, 'accuracy': 0.8629629629629629, 'macro avg': {'precision': 0.8607142857142858, 'recall': 0.8683029453015427, 'f1-score': 0.8617779315115877, 'support': 270}, 'weighted avg': {'precision': 0.8697089947089947, 'recall': 0.8629629629629629, 'f1-score': 0.8636739818337882, 'support': 270}}\n"
     ]
    },
    {
     "data": {
      "text/plain": [
       "array([[104,  11],\n",
       "       [ 26, 129]], dtype=int64)"
      ]
     },
     "execution_count": 59,
     "metadata": {},
     "output_type": "execute_result"
    }
   ],
   "source": [
    "knn3=KNeighborsClassifier(n_neighbors=20)\n",
    "knn3.fit(x_train3,y_train3)\n",
    "pred_knn3=knn3.predict(x_test3)\n",
    "C9=confusion_matrix(pred_knn3,y_test3)\n",
    "R9=classification_report(pred_knn3,y_test3,output_dict=True)\n",
    "print(R9)\n",
    "C9"
   ]
  },
  {
   "cell_type": "code",
   "execution_count": null,
   "metadata": {},
   "outputs": [],
   "source": []
  },
  {
   "cell_type": "code",
   "execution_count": 60,
   "metadata": {},
   "outputs": [
    {
     "data": {
      "text/plain": [
       "2"
      ]
     },
     "execution_count": 60,
     "metadata": {},
     "output_type": "execute_result"
    }
   ],
   "source": [
    "a1=R1['accuracy']\n",
    "a2=R2['accuracy']\n",
    "a3=R3['accuracy']\n",
    "a4=R4['accuracy']\n",
    "\n",
    "a5=R5['accuracy']\n",
    "\n",
    "a6=R6['accuracy']\n",
    "\n",
    "a7=R7['accuracy']\n",
    "a8=R8['accuracy']\n",
    "\n",
    "a9=R9['accuracy']\n",
    "accuracy=[a1,a2,a3,a4,a5,a6,a7,a8,a9]\n",
    "max(accuracy)\n",
    "accuracy.index(max(accuracy))\n",
    "\n"
   ]
  },
  {
   "cell_type": "code",
   "execution_count": 66,
   "metadata": {},
   "outputs": [
    {
     "data": {
      "text/plain": [
       "([<matplotlib.axis.YTick at 0x12192dae20>,\n",
       "  <matplotlib.axis.YTick at 0x12192da9d0>,\n",
       "  <matplotlib.axis.YTick at 0x12192d9850>,\n",
       "  <matplotlib.axis.YTick at 0x121930c460>],\n",
       " [Text(0, 0, ''), Text(0, 0, ''), Text(0, 0, ''), Text(0, 0, '')])"
      ]
     },
     "execution_count": 66,
     "metadata": {},
     "output_type": "execute_result"
    },
    {
     "data": {
      "image/png": "[encoded data removed]",
      "text/plain": [
       "<Figure size 1440x720 with 1 Axes>"
      ]
     },
     "metadata": {
      "needs_background": "light"
     },
     "output_type": "display_data"
    }
   ],
   "source": [
    "plt.figure(figsize=(20,10))\n",
    "plt.plot([\"Logistic regression with scaled parameters\",\"Logistic regression without scaled parameters\",\"Logistic regeression after PCA on scaled features\",\"SVM for scaled features\",\"SVM for non-scaled features\",\"SVM for PC of scaled features\",\"KNN on scaled features\",\"KNN on non-scaled features\",\"KNN on PC of scaled features\"],[a1,a2,a3,a4,a5,a6,a7,a8,a9],color='blue',linestyle='dashed',marker='o',markerfacecolor='red',markersize=4)\n",
    "plt.xlabel(\"K\")\n",
    "plt.ylabel(\"Accuracy\")\n",
    "plt.title(\"Model\")\n",
    "plt.xticks(rotation=90)\n",
    "\n",
    "plt.yticks(np.arange(0.5,0.90,0.1))"
   ]
  },
  {
   "cell_type": "code",
   "execution_count": 67,
   "metadata": {},
   "outputs": [
    {
     "data": {
      "text/plain": [
       "2"
      ]
     },
     "execution_count": 67,
     "metadata": {},
     "output_type": "execute_result"
    }
   ],
   "source": [
    "max(accuracy)\n",
    "accuracy.index(max(accuracy))\n",
    "# Accuracy of Logistic Regression without scaled features is highest"
   ]
  },
  {
   "cell_type": "code",
   "execution_count": null,
   "metadata": {},
   "outputs": [],
   "source": []
  },
  {
   "cell_type": "code",
   "execution_count": null,
   "metadata": {},
   "outputs": [],
   "source": []
  },
  {
   "cell_type": "code",
   "execution_count": null,
   "metadata": {},
   "outputs": [],
   "source": []
  },
  {
   "cell_type": "code",
   "execution_count": null,
   "metadata": {},
   "outputs": [],
   "source": []
  },
  {
   "cell_type": "code",
   "execution_count": null,
   "metadata": {},
   "outputs": [],
   "source": []
  }
 ],
 "metadata": {
  "kernelspec": {
   "display_name": "Python 3",
   "language": "python",
   "name": "python3"
  },
  "language_info": {
   "codemirror_mode": {
    "name": "ipython",
    "version": 3
   },
   "file_extension": ".py",
   "mimetype": "text/x-python",
   "name": "python",
   "nbconvert_exporter": "python",
   "pygments_lexer": "ipython3",
   "version": "3.8.5"
  }
 },
 "nbformat": 4,
 "nbformat_minor": 4
}
